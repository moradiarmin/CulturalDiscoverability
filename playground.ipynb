{
 "cells": [
  {
   "cell_type": "code",
   "execution_count": 28,
   "metadata": {},
   "outputs": [],
   "source": [
    "import pandas as pd\n",
    "import matplotlib.pyplot as plt\n",
    "\n",
    "ROOT_DIR = 'LFM-2b'\n",
    "\n",
    "\n",
    "\n",
    "albums = pd.read_csv(ROOT_DIR + '/albums.tsv.bz2', compression='bz2', sep='\\t', error_bad_lines=False, chunksize=100)\n",
    "artists = pd.read_csv(ROOT_DIR + '/artists.tsv.bz2', compression='bz2', sep='\\t', error_bad_lines=False, chunksize=100)\n",
    "listening_events = pd.read_csv(ROOT_DIR + '/listening-events.tsv.bz2', compression='bz2', sep='\\t', error_bad_lines=False, chunksize=100)\n",
    "listening_counts = pd.read_csv(ROOT_DIR + '/listening-counts.tsv.bz2', compression='bz2', sep='\\t', error_bad_lines=False, chunksize=100)\n",
    "\n",
    "# lyrics_features = pd.read_json(ROOT_DIR + '/lyrics-features.json.bz2', compression='bz2', lines=True, chunksize=100)\n",
    "spotify_uris = pd.read_csv(ROOT_DIR + '/spotify-uris.tsv.bz2', compression='bz2', sep='\\t', error_bad_lines=False, chunksize=100)\n",
    "# tags_micro_genres = pd.read_json(ROOT_DIR + '/tags-micro-genres.json.bz2', compression='bz2', lines=True, chunksize=100)\n",
    "# tags = pd.read_json(ROOT_DIR + '/tags.json.bz2', compression='bz2', lines=True, chunksize=100)\n",
    "\n",
    "tracks = pd.read_csv(ROOT_DIR + '/tracks.tsv.bz2', compression='bz2', sep='\\t', error_bad_lines=False, chunksize=100)\n",
    "users = pd.read_csv(ROOT_DIR + '/users.tsv.bz2', compression='bz2', sep='\\t', error_bad_lines=False, chunksize=100)"
   ]
  },
  {
   "cell_type": "code",
   "execution_count": 30,
   "metadata": {},
   "outputs": [
    {
     "name": "stdout",
     "output_type": "stream",
     "text": [
      "     album_id  album_name                                        artist_name\n",
      "100       100         NaN                     ! WWW.POLSKIE-MP3.TK ! zlote l\n",
      "101       101         NaN                  ! WWW.POLSKIE-MP3.TK ! zlote lata\n",
      "102       102         NaN        ! WWW.POLSKIE-MP3.TK ! zlote przeboje 60-70\n",
      "103       103         NaN  ! WWW.POLSKIE-MP3.TK ! zlote przeboje polskiej...\n",
      "104       104         NaN   ! WWW.POLSKIE-MP3.TK ! zlote przeboje socjalizmu\n"
     ]
    }
   ],
   "source": [
    "for t in albums:\n",
    "    print(t.head())\n",
    "    break"
   ]
  },
  {
   "cell_type": "code",
   "execution_count": 31,
   "metadata": {},
   "outputs": [
    {
     "name": "stdout",
     "output_type": "stream",
     "text": [
      "   artist_id                 artist_name\n",
      "0          0                         NaN\n",
      "1          1               \u0001##Horror Inc\n",
      "2          2             \u0010840 \u001d8:>;09GC:\n",
      "3          3  \u0010;5:A0=4@ \u001620:8= (\u001b>: \u0014>3)\n",
      "4          4               \u00110=40 G5BK@QE\n"
     ]
    }
   ],
   "source": [
    "for t in artists:\n",
    "    print(t.head())\n",
    "    break"
   ]
  },
  {
   "cell_type": "code",
   "execution_count": 35,
   "metadata": {},
   "outputs": [
    {
     "name": "stdout",
     "output_type": "stream",
     "text": [
      "   user_id  track_id  count\n",
      "0    92915  26719936      1\n",
      "1    92915   4271407      1\n",
      "2    92915   4606511      1\n",
      "3    92915   8966085      1\n",
      "4    92915  12290897      1\n"
     ]
    }
   ],
   "source": [
    "for t in listening_counts:\n",
    "    print(t.head())\n",
    "    break"
   ]
  },
  {
   "cell_type": "code",
   "execution_count": 34,
   "metadata": {},
   "outputs": [
    {
     "name": "stdout",
     "output_type": "stream",
     "text": [
      "     user_id  track_id  album_id            timestamp\n",
      "200    51549  27956643  11558340  2013-05-19 22:09:20\n",
      "201    51549  27956643  11558340  2013-05-19 22:05:54\n",
      "202    51549  27956643  11558340  2013-05-19 22:02:28\n",
      "203    51549  27956643  11558340  2013-05-19 21:59:01\n",
      "204    51549  27956643  11558340  2013-05-19 21:55:35\n"
     ]
    }
   ],
   "source": [
    "for t in listening_events:\n",
    "    print(t.head())\n",
    "    break"
   ]
  },
  {
   "cell_type": "code",
   "execution_count": 36,
   "metadata": {},
   "outputs": [
    {
     "name": "stdout",
     "output_type": "stream",
     "text": [
      "   track_id                     uri\n",
      "0  36346257  4wCmqSrbyCgxEXROQE6vtV\n",
      "1  32496162  4G8gkOterJn0Ywt6uhqbhp\n",
      "2  33619193  1c8gk2PeTE04A1pIDH9YMk\n",
      "3  32083560  7w87IxuO7BDcJ3YUqCyMTT\n",
      "4  45222862  6mFkJmJqdDVQ1REhVfGgd1\n"
     ]
    }
   ],
   "source": [
    "for t in spotify_uris:\n",
    "    print(t.head())\n",
    "    break"
   ]
  },
  {
   "cell_type": "code",
   "execution_count": 54,
   "metadata": {},
   "outputs": [
    {
     "name": "stdout",
     "output_type": "stream",
     "text": [
      "      track_id       artist_name                            track_name\n",
      "1500      2244      Materia Gris                         !Soy Tu Vida!\n",
      "1501      2245           Popskyy                                 !Spin\n",
      "1502      2246   Plastic Assault                               !Splat!\n",
      "1503      2247     3 Mustaphas 3        !Starehe Mustapha! I, II & III\n",
      "1504      2248  Nenia C'alladhan  !Sternblumennacht (original Version)\n"
     ]
    }
   ],
   "source": [
    "for t in tracks:\n",
    "    print(t.head())\n",
    "    break"
   ]
  },
  {
   "cell_type": "code",
   "execution_count": 43,
   "metadata": {},
   "outputs": [
    {
     "name": "stdout",
     "output_type": "stream",
     "text": [
      "     user_id country  age gender        creation_time\n",
      "100      100      US   24      m  2004-03-15 04:06:17\n",
      "101      101      DE   26      f  2004-03-14 21:32:43\n",
      "102      102      US   32      m  2004-03-15 22:23:15\n",
      "103      103      RU   -1      n  2004-03-18 13:03:09\n",
      "104      104      RU   29      f  2004-03-18 16:28:04\n"
     ]
    }
   ],
   "source": [
    "for t in users:\n",
    "    print(t.head())\n",
    "    break"
   ]
  },
  {
   "cell_type": "code",
   "execution_count": 33,
   "metadata": {},
   "outputs": [
    {
     "data": {
      "text/plain": [
       "(15258, 153)"
      ]
     },
     "execution_count": 33,
     "metadata": {},
     "output_type": "execute_result"
    }
   ],
   "source": [
    "len(users), len(users['country'].unique())"
   ]
  },
  {
   "cell_type": "code",
   "execution_count": 47,
   "metadata": {},
   "outputs": [
    {
     "data": {
      "text/plain": [
       "0.1437908496732026"
      ]
     },
     "execution_count": 47,
     "metadata": {},
     "output_type": "execute_result"
    }
   ],
   "source": [
    "# percentile of countries with more than 100 users\n",
    "len(users['country'].value_counts()[users['country'].value_counts() > 100]) / len(users['country'].unique())"
   ]
  },
  {
   "cell_type": "code",
   "execution_count": 3,
   "metadata": {},
   "outputs": [],
   "source": [
    "#42G     ./data\n",
    "#21G     ./LFM-2b\n",
    "import pandas as pd"
   ]
  },
  {
   "cell_type": "code",
   "execution_count": 5,
   "metadata": {},
   "outputs": [],
   "source": [
    "\n",
    "dataset = 'artist'\n",
    "path = 'data/json-dumps/20231028-001001/{}/mbdump/{}'.format(dataset, dataset)\n",
    "df = pd.read_json(path, chunksize=1000, lines=True)"
   ]
  },
  {
   "cell_type": "code",
   "execution_count": 20,
   "metadata": {},
   "outputs": [
    {
     "name": "stdout",
     "output_type": "stream",
     "text": [
      "Index(['type', 'gender', 'isnis', 'end-area', 'annotation', 'genres',\n",
      "       'relations', 'end_area', 'tags', 'sort-name', 'area', 'id', 'rating',\n",
      "       'begin_area', 'aliases', 'life-span', 'country', 'type-id', 'name',\n",
      "       'disambiguation', 'ipis', 'begin-area', 'gender-id'],\n",
      "      dtype='object')\n",
      "type                                                         Person\n",
      "gender                                                       Female\n",
      "isnis                                            [000000011450622X]\n",
      "end-area                                                       None\n",
      "annotation                                                     None\n",
      "genres            [{'count': 1, 'name': 'soul', 'id': '1b5e7b16-...\n",
      "relations         [{'direction': 'forward', 'target-credit': '',...\n",
      "end_area                                                       None\n",
      "tags              [{'name': 'classic pop and rock', 'count': 1},...\n",
      "sort-name                                              Adams, Oleta\n",
      "area              {'iso-3166-1-codes': ['US'], 'id': '489ce91b-6...\n",
      "id                             d3ffeb64-9d7b-4911-98e5-91ee26005ee9\n",
      "rating                            {'votes-count': 0, 'value': None}\n",
      "begin_area        {'sort-name': 'Seattle', 'id': '10adc6b5-63bf-...\n",
      "aliases           [{'ended': False, 'locale': None, 'end': None,...\n",
      "life-span         {'ended': False, 'end': None, 'begin': '1954-0...\n",
      "country                                                          US\n",
      "type-id                        b6e035f4-3ce9-331c-97df-83397230b0df\n",
      "name                                                    Oleta Adams\n",
      "disambiguation                                                     \n",
      "ipis                                     [00035776560, 00231540900]\n",
      "begin-area        {'sort-name': 'Seattle', 'id': '10adc6b5-63bf-...\n",
      "gender-id                      93452b5a-a947-30c8-934f-6a4056b151c2\n",
      "Name: 9000, dtype: object ------\n",
      " Oleta Adams Adams, Oleta\n"
     ]
    }
   ],
   "source": [
    "i = 0\n",
    "for d in df:\n",
    "    # print column names for one row\n",
    "    print(d.columns)\n",
    "    print(d.iloc[i], '------\\n', d.iloc[i]['name'], d.iloc[i]['sort-name'])\n",
    "    break"
   ]
  },
  {
   "cell_type": "code",
   "execution_count": 9,
   "metadata": {},
   "outputs": [],
   "source": [
    "dataset = 'artists'\n",
    "path = 'LFM-2b/{}.tsv.bz2'.format(dataset)\n",
    "df_2b = pd.read_csv(path, sep='\\t', error_bad_lines=False, chunksize=1000)"
   ]
  },
  {
   "cell_type": "code",
   "execution_count": 23,
   "metadata": {},
   "outputs": [
    {
     "name": "stdout",
     "output_type": "stream",
     "text": [
      "Index(['artist_id', 'artist_name'], dtype='object')\n",
      "artist_id         103367\n",
      "artist_name    17secrets\n",
      "Name: 103000, dtype: object ------\n",
      " 17secrets\n"
     ]
    }
   ],
   "source": [
    "for d in df_2b:\n",
    "    # print column names for one row\n",
    "    print(d.columns)\n",
    "    print(d.iloc[i], '------\\n', d.iloc[i]['artist_name'])\n",
    "    break"
   ]
  },
  {
   "cell_type": "code",
   "execution_count": 27,
   "metadata": {},
   "outputs": [
    {
     "name": "stdout",
     "output_type": "stream",
     "text": [
      "         artist_id artist_name\n",
      "3059902    3060269       Oleta\n"
     ]
    }
   ],
   "source": [
    "for d in df_2b:\n",
    "    ddd = (d.loc[(d['artist_name'] == 'Oleta Adams Adams') | (d['artist_name'] == 'Oleta')])\n",
    "    if len(ddd) > 0:\n",
    "        print(ddd)\n",
    "        # print(d)\n",
    "        # break"
   ]
  },
  {
   "cell_type": "code",
   "execution_count": null,
   "metadata": {},
   "outputs": [],
   "source": []
  }
 ],
 "metadata": {
  "kernelspec": {
   "display_name": "base",
   "language": "python",
   "name": "python3"
  },
  "language_info": {
   "codemirror_mode": {
    "name": "ipython",
    "version": 3
   },
   "file_extension": ".py",
   "mimetype": "text/x-python",
   "name": "python",
   "nbconvert_exporter": "python",
   "pygments_lexer": "ipython3",
   "version": "3.6.9"
  },
  "orig_nbformat": 4
 },
 "nbformat": 4,
 "nbformat_minor": 2
}
