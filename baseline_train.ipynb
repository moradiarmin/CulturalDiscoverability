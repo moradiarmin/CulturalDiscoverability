{
 "cells": [
  {
   "cell_type": "code",
   "execution_count": 5,
   "metadata": {
    "tags": [
     "parameters"
    ]
   },
   "outputs": [
    {
     "name": "stderr",
     "output_type": "stream",
     "text": [
      "usage: ipykernel_launcher.py [-h] [--weights_path [WEIGHTS_PATH]]\n",
      "                             [--data_path [DATA_PATH]]\n",
      "                             [--proj_path [PROJ_PATH]] [--dataset [DATASET]]\n",
      "                             [--pretrain PRETRAIN] [--verbose VERBOSE]\n",
      "                             [--epoch EPOCH] [--embed_size EMBED_SIZE]\n",
      "                             [--layer_size [LAYER_SIZE]]\n",
      "                             [--batch_size BATCH_SIZE] [--regs [REGS]]\n",
      "                             [--lr LR] [--model_type [MODEL_TYPE]]\n",
      "                             [--adj_type [ADJ_TYPE]] [--gpu_id GPU_ID]\n",
      "                             [--node_dropout_flag NODE_DROPOUT_FLAG]\n",
      "                             [--node_dropout [NODE_DROPOUT]]\n",
      "                             [--mess_dropout [MESS_DROPOUT]] [--Ks [KS]]\n",
      "                             [--save_flag SAVE_FLAG] [--test_flag [TEST_FLAG]]\n",
      "                             [--report REPORT]\n",
      "ipykernel_launcher.py: error: unrecognized arguments: --f=/home/mila/a/armin.moradi/.local/share/jupyter/runtime/kernel-v2-59821Fb94JY07zGpc.json\n"
     ]
    },
    {
     "ename": "SystemExit",
     "evalue": "2",
     "output_type": "error",
     "traceback": [
      "An exception has occurred, use %tb to see the full traceback.\n",
      "\u001b[0;31mSystemExit\u001b[0m\u001b[0;31m:\u001b[0m 2\n"
     ]
    },
    {
     "name": "stderr",
     "output_type": "stream",
     "text": [
      "/home/mila/a/armin.moradi/.conda/envs/crs_env/lib/python3.6/site-packages/IPython/core/interactiveshell.py:3351: UserWarning: To exit: use 'exit', 'quit', or Ctrl-D.\n",
      "  warn(\"To exit: use 'exit', 'quit', or Ctrl-D.\", stacklevel=1)\n"
     ]
    }
   ],
   "source": [
    "# '''\n",
    "# Created on March 24, 2020\n",
    "\n",
    "# @author: Tinglin Huang (huangtinglin@outlook.com)\n",
    "# https://github.com/huangtinglin/NGCF-PyTorch\n",
    "# '''\n",
    "\n",
    "# import torch\n",
    "# import torch.optim as optim\n",
    "\n",
    "# import NGCF\n",
    "# from utility.helper import *\n",
    "# from utility.batch_test import *\n",
    "\n",
    "# import warnings\n",
    "# warnings.filterwarnings('ignore')\n",
    "# from time import time\n",
    "\n",
    "\n",
    "# args.device = torch.device('cuda:' + str(args.gpu_id))\n",
    "\n",
    "# plain_adj, norm_adj, mean_adj = data_generator.get_adj_mat()\n",
    "\n",
    "# args.node_dropout = eval(args.node_dropout)\n",
    "# args.mess_dropout = eval(args.mess_dropout)\n",
    "\n",
    "# model = NGCF(data_generator.n_users,\n",
    "#                 data_generator.n_items,\n",
    "#                 norm_adj,\n",
    "#                 args).to(args.device)\n",
    "\n",
    "# t0 = time()\n",
    "# \"\"\"\n",
    "# *********************************************************\n",
    "# Train.\n",
    "# \"\"\"\n",
    "# cur_best_pre_0, stopping_step = 0, 0\n",
    "# optimizer = optim.Adam(model.parameters(), lr=args.lr)\n",
    "\n",
    "# loss_loger, pre_loger, rec_loger, ndcg_loger, hit_loger = [], [], [], [], []\n",
    "# for epoch in range(args.epoch):\n",
    "#     t1 = time()\n",
    "#     loss, mf_loss, emb_loss = 0., 0., 0.\n",
    "#     n_batch = data_generator.n_train // args.batch_size + 1\n",
    "\n",
    "#     for idx in range(n_batch):\n",
    "#         users, pos_items, neg_items = data_generator.sample()\n",
    "#         u_g_embeddings, pos_i_g_embeddings, neg_i_g_embeddings = model(users,\n",
    "#                                                                         pos_items,\n",
    "#                                                                         neg_items,\n",
    "#                                                                         drop_flag=args.node_dropout_flag)\n",
    "\n",
    "#         batch_loss, batch_mf_loss, batch_emb_loss = model.create_bpr_loss(u_g_embeddings,\n",
    "#                                                                             pos_i_g_embeddings,\n",
    "#                                                                             neg_i_g_embeddings)\n",
    "#         optimizer.zero_grad()\n",
    "#         batch_loss.backward()\n",
    "#         optimizer.step()\n",
    "\n",
    "#         loss += batch_loss\n",
    "#         mf_loss += batch_mf_loss\n",
    "#         emb_loss += batch_emb_loss\n",
    "\n",
    "#     if (epoch + 1) % 10 != 0:\n",
    "#         if args.verbose > 0 and epoch % args.verbose == 0:\n",
    "#             perf_str = 'Epoch %d [%.1fs]: train==[%.5f=%.5f + %.5f]' % (\n",
    "#                 epoch, time() - t1, loss, mf_loss, emb_loss)\n",
    "#             print(perf_str)\n",
    "#         continue\n",
    "\n",
    "#     t2 = time()\n",
    "#     users_to_test = list(data_generator.test_set.keys())\n",
    "#     ret = test(model, users_to_test, drop_flag=False)\n",
    "\n",
    "#     t3 = time()\n",
    "\n",
    "#     loss_loger.append(loss)\n",
    "#     rec_loger.append(ret['recall'])\n",
    "#     pre_loger.append(ret['precision'])\n",
    "#     ndcg_loger.append(ret['ndcg'])\n",
    "#     hit_loger.append(ret['hit_ratio'])\n",
    "\n",
    "#     if args.verbose > 0:\n",
    "#         perf_str = 'Epoch %d [%.1fs + %.1fs]: train==[%.5f=%.5f + %.5f], recall=[%.5f, %.5f], ' \\\n",
    "#                     'precision=[%.5f, %.5f], hit=[%.5f, %.5f], ndcg=[%.5f, %.5f]' % \\\n",
    "#                     (epoch, t2 - t1, t3 - t2, loss, mf_loss, emb_loss, ret['recall'][0], ret['recall'][-1],\n",
    "#                     ret['precision'][0], ret['precision'][-1], ret['hit_ratio'][0], ret['hit_ratio'][-1],\n",
    "#                     ret['ndcg'][0], ret['ndcg'][-1])\n",
    "#         print(perf_str)\n",
    "\n",
    "#     cur_best_pre_0, stopping_step, should_stop = early_stopping(ret['recall'][0], cur_best_pre_0,\n",
    "#                                                                 stopping_step, expected_order='acc', flag_step=5)\n",
    "\n",
    "#     # *********************************************************\n",
    "#     # early stopping when cur_best_pre_0 is decreasing for ten successive steps.\n",
    "#     if should_stop == True:\n",
    "#         break\n",
    "\n",
    "#     # *********************************************************\n",
    "#     # save the user & item embeddings for pretraining.\n",
    "#     if ret['recall'][0] == cur_best_pre_0 and args.save_flag == 1:\n",
    "#         torch.save(model.state_dict(), args.weights_path + str(epoch) + '.pkl')\n",
    "#         print('save the weights in path: ', args.weights_path + str(epoch) + '.pkl')\n",
    "\n",
    "# recs = np.array(rec_loger)\n",
    "# pres = np.array(pre_loger)\n",
    "# ndcgs = np.array(ndcg_loger)\n",
    "# hit = np.array(hit_loger)\n",
    "\n",
    "# best_rec_0 = max(recs[:, 0])\n",
    "# idx = list(recs[:, 0]).index(best_rec_0)\n",
    "\n",
    "# final_perf = \"Best Iter=[%d]@[%.1f]\\trecall=[%s], precision=[%s], hit=[%s], ndcg=[%s]\" % \\\n",
    "#                 (idx, time() - t0, '\\t'.join(['%.5f' % r for r in recs[idx]]),\n",
    "#                 '\\t'.join(['%.5f' % r for r in pres[idx]]),\n",
    "#                 '\\t'.join(['%.5f' % r for r in hit[idx]]),\n",
    "#                 '\\t'.join(['%.5f' % r for r in ndcgs[idx]]))\n",
    "# print(final_perf)"
   ]
  },
  {
   "cell_type": "markdown",
   "metadata": {},
   "source": [
    "# LEARN A BASE GNN"
   ]
  },
  {
   "cell_type": "code",
   "execution_count": 6,
   "metadata": {},
   "outputs": [
    {
     "name": "stdout",
     "output_type": "stream",
     "text": [
      "[=== Module anaconda/3 loaded ===]\n",
      "\n",
      "PackageNotInstalledError: Package is not installed in prefix.\n",
      "  prefix: /home/mila/a/armin.moradi/.conda/envs/crs_env\n",
      "  package name: pytorch\n",
      "\n",
      "\n"
     ]
    }
   ],
   "source": [
    "!module load anaconda/3 && conda update pytorch torchvision"
   ]
  },
  {
   "cell_type": "code",
   "execution_count": 5,
   "metadata": {},
   "outputs": [
    {
     "name": "stderr",
     "output_type": "stream",
     "text": [
      "DGL backend not selected or invalid.  Assuming PyTorch for now.\n"
     ]
    },
    {
     "name": "stdout",
     "output_type": "stream",
     "text": [
      "Setting the default backend to \"pytorch\". You can change it in the ~/.dgl/config.json file or export the DGLBACKEND environment variable.  Valid options are: pytorch, mxnet, tensorflow (all lowercase)\n"
     ]
    },
    {
     "ename": "RuntimeError",
     "evalue": "DGL requires PyTorch >= 1.9.0",
     "output_type": "error",
     "traceback": [
      "\u001b[0;31m---------------------------------------------------------------------------\u001b[0m",
      "\u001b[0;31mRuntimeError\u001b[0m                              Traceback (most recent call last)",
      "\u001b[0;32m<ipython-input-5-ab6df1219789>\u001b[0m in \u001b[0;36m<module>\u001b[0;34m\u001b[0m\n\u001b[1;32m      1\u001b[0m \u001b[0;32mimport\u001b[0m \u001b[0mtorch\u001b[0m\u001b[0;34m\u001b[0m\u001b[0;34m\u001b[0m\u001b[0m\n\u001b[1;32m      2\u001b[0m \u001b[0;32mimport\u001b[0m \u001b[0mtorch\u001b[0m\u001b[0;34m.\u001b[0m\u001b[0mnn\u001b[0m \u001b[0;32mas\u001b[0m \u001b[0mnn\u001b[0m\u001b[0;34m\u001b[0m\u001b[0;34m\u001b[0m\u001b[0m\n\u001b[0;32m----> 3\u001b[0;31m \u001b[0;32mimport\u001b[0m \u001b[0mdgl\u001b[0m\u001b[0;34m.\u001b[0m\u001b[0mfunction\u001b[0m \u001b[0;32mas\u001b[0m \u001b[0mfn\u001b[0m\u001b[0;34m\u001b[0m\u001b[0;34m\u001b[0m\u001b[0m\n\u001b[0m\u001b[1;32m      4\u001b[0m \u001b[0;32mimport\u001b[0m \u001b[0mdgl\u001b[0m\u001b[0;34m\u001b[0m\u001b[0;34m\u001b[0m\u001b[0m\n\u001b[1;32m      5\u001b[0m \u001b[0;34m\u001b[0m\u001b[0m\n",
      "\u001b[0;32m~/.conda/envs/crs_env/lib/python3.6/site-packages/dgl/__init__.py\u001b[0m in \u001b[0;36m<module>\u001b[0;34m\u001b[0m\n\u001b[1;32m     14\u001b[0m \u001b[0;31m# Backend and logging should be imported before other modules.\u001b[0m\u001b[0;34m\u001b[0m\u001b[0;34m\u001b[0m\u001b[0;34m\u001b[0m\u001b[0m\n\u001b[1;32m     15\u001b[0m \u001b[0;32mfrom\u001b[0m \u001b[0;34m.\u001b[0m\u001b[0mlogging\u001b[0m \u001b[0;32mimport\u001b[0m \u001b[0menable_verbose_logging\u001b[0m  \u001b[0;31m# usort: skip\u001b[0m\u001b[0;34m\u001b[0m\u001b[0;34m\u001b[0m\u001b[0m\n\u001b[0;32m---> 16\u001b[0;31m \u001b[0;32mfrom\u001b[0m \u001b[0;34m.\u001b[0m\u001b[0mbackend\u001b[0m \u001b[0;32mimport\u001b[0m \u001b[0mbackend_name\u001b[0m\u001b[0;34m,\u001b[0m \u001b[0mload_backend\u001b[0m  \u001b[0;31m# usort: skip\u001b[0m\u001b[0;34m\u001b[0m\u001b[0;34m\u001b[0m\u001b[0m\n\u001b[0m\u001b[1;32m     17\u001b[0m \u001b[0;34m\u001b[0m\u001b[0m\n\u001b[1;32m     18\u001b[0m from . import (\n",
      "\u001b[0;32m~/.conda/envs/crs_env/lib/python3.6/site-packages/dgl/backend/__init__.py\u001b[0m in \u001b[0;36m<module>\u001b[0;34m\u001b[0m\n\u001b[1;32m    120\u001b[0m \u001b[0;34m\u001b[0m\u001b[0m\n\u001b[1;32m    121\u001b[0m \u001b[0;34m\u001b[0m\u001b[0m\n\u001b[0;32m--> 122\u001b[0;31m \u001b[0mload_backend\u001b[0m\u001b[0;34m(\u001b[0m\u001b[0mget_preferred_backend\u001b[0m\u001b[0;34m(\u001b[0m\u001b[0;34m)\u001b[0m\u001b[0;34m)\u001b[0m\u001b[0;34m\u001b[0m\u001b[0;34m\u001b[0m\u001b[0m\n\u001b[0m\u001b[1;32m    123\u001b[0m \u001b[0;34m\u001b[0m\u001b[0m\n\u001b[1;32m    124\u001b[0m \u001b[0;34m\u001b[0m\u001b[0m\n",
      "\u001b[0;32m~/.conda/envs/crs_env/lib/python3.6/site-packages/dgl/backend/__init__.py\u001b[0m in \u001b[0;36mload_backend\u001b[0;34m(mod_name)\u001b[0m\n\u001b[1;32m     55\u001b[0m \u001b[0;34m\u001b[0m\u001b[0m\n\u001b[1;32m     56\u001b[0m     \u001b[0mlogger\u001b[0m\u001b[0;34m.\u001b[0m\u001b[0mdebug\u001b[0m\u001b[0;34m(\u001b[0m\u001b[0;34m\"Using backend: %s\"\u001b[0m \u001b[0;34m%\u001b[0m \u001b[0mmod_name\u001b[0m\u001b[0;34m)\u001b[0m\u001b[0;34m\u001b[0m\u001b[0;34m\u001b[0m\u001b[0m\n\u001b[0;32m---> 57\u001b[0;31m     \u001b[0mmod\u001b[0m \u001b[0;34m=\u001b[0m \u001b[0mimportlib\u001b[0m\u001b[0;34m.\u001b[0m\u001b[0mimport_module\u001b[0m\u001b[0;34m(\u001b[0m\u001b[0;34m\".%s\"\u001b[0m \u001b[0;34m%\u001b[0m \u001b[0mmod_name\u001b[0m\u001b[0;34m,\u001b[0m \u001b[0m__name__\u001b[0m\u001b[0;34m)\u001b[0m\u001b[0;34m\u001b[0m\u001b[0;34m\u001b[0m\u001b[0m\n\u001b[0m\u001b[1;32m     58\u001b[0m     \u001b[0mthismod\u001b[0m \u001b[0;34m=\u001b[0m \u001b[0msys\u001b[0m\u001b[0;34m.\u001b[0m\u001b[0mmodules\u001b[0m\u001b[0;34m[\u001b[0m\u001b[0m__name__\u001b[0m\u001b[0;34m]\u001b[0m\u001b[0;34m\u001b[0m\u001b[0;34m\u001b[0m\u001b[0m\n\u001b[1;32m     59\u001b[0m     \u001b[0;32mfor\u001b[0m \u001b[0mapi\u001b[0m \u001b[0;32min\u001b[0m \u001b[0mbackend\u001b[0m\u001b[0;34m.\u001b[0m\u001b[0m__dict__\u001b[0m\u001b[0;34m.\u001b[0m\u001b[0mkeys\u001b[0m\u001b[0;34m(\u001b[0m\u001b[0;34m)\u001b[0m\u001b[0;34m:\u001b[0m\u001b[0;34m\u001b[0m\u001b[0;34m\u001b[0m\u001b[0m\n",
      "\u001b[0;32m~/.conda/envs/crs_env/lib/python3.6/importlib/__init__.py\u001b[0m in \u001b[0;36mimport_module\u001b[0;34m(name, package)\u001b[0m\n\u001b[1;32m    124\u001b[0m                 \u001b[0;32mbreak\u001b[0m\u001b[0;34m\u001b[0m\u001b[0;34m\u001b[0m\u001b[0m\n\u001b[1;32m    125\u001b[0m             \u001b[0mlevel\u001b[0m \u001b[0;34m+=\u001b[0m \u001b[0;36m1\u001b[0m\u001b[0;34m\u001b[0m\u001b[0;34m\u001b[0m\u001b[0m\n\u001b[0;32m--> 126\u001b[0;31m     \u001b[0;32mreturn\u001b[0m \u001b[0m_bootstrap\u001b[0m\u001b[0;34m.\u001b[0m\u001b[0m_gcd_import\u001b[0m\u001b[0;34m(\u001b[0m\u001b[0mname\u001b[0m\u001b[0;34m[\u001b[0m\u001b[0mlevel\u001b[0m\u001b[0;34m:\u001b[0m\u001b[0;34m]\u001b[0m\u001b[0;34m,\u001b[0m \u001b[0mpackage\u001b[0m\u001b[0;34m,\u001b[0m \u001b[0mlevel\u001b[0m\u001b[0;34m)\u001b[0m\u001b[0;34m\u001b[0m\u001b[0;34m\u001b[0m\u001b[0m\n\u001b[0m\u001b[1;32m    127\u001b[0m \u001b[0;34m\u001b[0m\u001b[0m\n\u001b[1;32m    128\u001b[0m \u001b[0;34m\u001b[0m\u001b[0m\n",
      "\u001b[0;32m~/.conda/envs/crs_env/lib/python3.6/site-packages/dgl/backend/pytorch/__init__.py\u001b[0m in \u001b[0;36m<module>\u001b[0;34m\u001b[0m\n\u001b[1;32m      1\u001b[0m \u001b[0;32mfrom\u001b[0m \u001b[0;34m.\u001b[0m\u001b[0msparse\u001b[0m \u001b[0;32mimport\u001b[0m \u001b[0;34m*\u001b[0m\u001b[0;34m\u001b[0m\u001b[0;34m\u001b[0m\u001b[0m\n\u001b[0;32m----> 2\u001b[0;31m \u001b[0;32mfrom\u001b[0m \u001b[0;34m.\u001b[0m\u001b[0mtensor\u001b[0m \u001b[0;32mimport\u001b[0m \u001b[0;34m*\u001b[0m\u001b[0;34m\u001b[0m\u001b[0;34m\u001b[0m\u001b[0m\n\u001b[0m",
      "\u001b[0;32m~/.conda/envs/crs_env/lib/python3.6/site-packages/dgl/backend/pytorch/tensor.py\u001b[0m in \u001b[0;36m<module>\u001b[0;34m\u001b[0m\n\u001b[1;32m     14\u001b[0m \u001b[0;34m\u001b[0m\u001b[0m\n\u001b[1;32m     15\u001b[0m \u001b[0;32mif\u001b[0m \u001b[0mversion\u001b[0m\u001b[0;34m.\u001b[0m\u001b[0mparse\u001b[0m\u001b[0;34m(\u001b[0m\u001b[0mth\u001b[0m\u001b[0;34m.\u001b[0m\u001b[0m__version__\u001b[0m\u001b[0;34m)\u001b[0m \u001b[0;34m<\u001b[0m \u001b[0mversion\u001b[0m\u001b[0;34m.\u001b[0m\u001b[0mparse\u001b[0m\u001b[0;34m(\u001b[0m\u001b[0;34m\"1.9.0\"\u001b[0m\u001b[0;34m)\u001b[0m\u001b[0;34m:\u001b[0m\u001b[0;34m\u001b[0m\u001b[0;34m\u001b[0m\u001b[0m\n\u001b[0;32m---> 16\u001b[0;31m     \u001b[0;32mraise\u001b[0m \u001b[0mRuntimeError\u001b[0m\u001b[0;34m(\u001b[0m\u001b[0;34m\"DGL requires PyTorch >= 1.9.0\"\u001b[0m\u001b[0;34m)\u001b[0m\u001b[0;34m\u001b[0m\u001b[0;34m\u001b[0m\u001b[0m\n\u001b[0m\u001b[1;32m     17\u001b[0m \u001b[0;34m\u001b[0m\u001b[0m\n\u001b[1;32m     18\u001b[0m \u001b[0;34m\u001b[0m\u001b[0m\n",
      "\u001b[0;31mRuntimeError\u001b[0m: DGL requires PyTorch >= 1.9.0"
     ]
    }
   ],
   "source": [
    "import torch\n",
    "import torch.nn as nn\n",
    "import dgl.function as fn\n",
    "import dgl\n",
    "\n",
    "class GNNWithFeatures(nn.Module):\n",
    "    def __init__(self, in_dim, hidden_dim, out_dim):\n",
    "        super(GNNWithFeatures, self).__init__()\n",
    "        self.gnn = nn.GraphConv(in_dim, hidden_dim)\n",
    "        self.linear_demographic = nn.Linear(demographic_dim, hidden_dim)\n",
    "        self.linear_output = nn.Linear(hidden_dim * 2, out_dim)\n",
    "\n",
    "    def forward(self, g, node_features, demographic_features):\n",
    "        # Apply GNN layer to node features\n",
    "        g.ndata['h'] = node_features\n",
    "        g.update_all(fn.copy_src(src='h', out='m'), fn.sum(msg='m', out='h'))\n",
    "        node_features_gnn = g.ndata['h']\n",
    "\n",
    "        # Apply linear layer to demographic features\n",
    "        demographic_features_linear = self.linear_demographic(demographic_features)\n",
    "\n",
    "        # Concatenate GNN and demographic features\n",
    "        combined_features = torch.cat([node_features_gnn, demographic_features_linear], dim=1)\n",
    "\n",
    "        # Final prediction\n",
    "        output = self.linear_output(combined_features)\n",
    "        return output\n",
    "\n",
    "# Instantiate the model\n",
    "model = GNNWithFeatures(in_dim=node_feature_dim, hidden_dim=64, out_dim=output_dim)\n",
    "\n",
    "# Define loss function and optimizer\n",
    "criterion = nn.CrossEntropyLoss()\n",
    "optimizer = torch.optim.Adam(model.parameters(), lr=0.001)\n",
    "\n",
    "# Training loop\n",
    "for epoch in range(num_epochs):\n",
    "    # Forward pass\n",
    "    output = model(graph, node_features, demographic_features)\n",
    "    \n",
    "    # Compute loss\n",
    "    loss = criterion(output, labels)\n",
    "    \n",
    "    # Backward pass and optimization\n",
    "    optimizer.zero_grad()\n",
    "    loss.backward()\n",
    "    optimizer.step()\n"
   ]
  },
  {
   "cell_type": "code",
   "execution_count": 6,
   "metadata": {},
   "outputs": [
    {
     "name": "stdout",
     "output_type": "stream",
     "text": [
      "/bin/bash: conda: command not found\n"
     ]
    }
   ],
   "source": [
    "!conda list"
   ]
  },
  {
   "cell_type": "code",
   "execution_count": null,
   "metadata": {},
   "outputs": [],
   "source": []
  }
 ],
 "metadata": {
  "kernelspec": {
   "display_name": "Python 3",
   "language": "python",
   "name": "python3"
  },
  "language_info": {
   "codemirror_mode": {
    "name": "ipython",
    "version": 3
   },
   "file_extension": ".py",
   "mimetype": "text/x-python",
   "name": "python",
   "nbconvert_exporter": "python",
   "pygments_lexer": "ipython3",
   "version": "3.6.9"
  }
 },
 "nbformat": 4,
 "nbformat_minor": 2
}
