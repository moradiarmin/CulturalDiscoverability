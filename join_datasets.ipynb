{
 "cells": [
  {
   "cell_type": "code",
   "execution_count": 29,
   "metadata": {},
   "outputs": [],
   "source": [
    "import pandas as pd\n",
    "import os\n",
    "\n",
    "scratch_directory = os.environ.get('SCRATCH')\n",
    "home_directory = os.environ.get('HOME')"
   ]
  },
  {
   "cell_type": "code",
   "execution_count": 42,
   "metadata": {},
   "outputs": [],
   "source": [
    "MB_DATASETS = [\"artist\", \"release\", \"release-group\"]\n",
    "MB_ROOT_DIR = scratch_directory + \"/data/json-dumps/20231028-001001/{0}/mbdump/{0}\"\n",
    "LFM_DATASETS = [\"albums\", \"artists\", \"listening-counts\", \"listening-events\", \"lyrics-features\", \"spotify-uris\", \"tags-micro-genres\", \"tags\", \"tracks\", \"users\"]\n",
    "FORMAT = [\"tsv\", \"json\"]\n",
    "LFM_ROOT_DIR = scratch_directory + \"/data/LFM-2b/{0}.{1}.bz2\""
   ]
  },
  {
   "cell_type": "code",
   "execution_count": 43,
   "metadata": {},
   "outputs": [],
   "source": [
    "artists_lfm = pd.read_csv(LFM_ROOT_DIR.format(\"artists\", \"tsv\"), sep=\"\\t\")"
   ]
  },
  {
   "cell_type": "code",
   "execution_count": 44,
   "metadata": {},
   "outputs": [
    {
     "data": {
      "text/html": [
       "<div>\n",
       "<style scoped>\n",
       "    .dataframe tbody tr th:only-of-type {\n",
       "        vertical-align: middle;\n",
       "    }\n",
       "\n",
       "    .dataframe tbody tr th {\n",
       "        vertical-align: top;\n",
       "    }\n",
       "\n",
       "    .dataframe thead th {\n",
       "        text-align: right;\n",
       "    }\n",
       "</style>\n",
       "<table border=\"1\" class=\"dataframe\">\n",
       "  <thead>\n",
       "    <tr style=\"text-align: right;\">\n",
       "      <th></th>\n",
       "      <th>artist_id</th>\n",
       "      <th>artist_name</th>\n",
       "    </tr>\n",
       "  </thead>\n",
       "  <tbody>\n",
       "    <tr>\n",
       "      <th>0</th>\n",
       "      <td>0</td>\n",
       "      <td>NaN</td>\n",
       "    </tr>\n",
       "    <tr>\n",
       "      <th>1</th>\n",
       "      <td>1</td>\n",
       "      <td>\u0001##Horror Inc</td>\n",
       "    </tr>\n",
       "    <tr>\n",
       "      <th>2</th>\n",
       "      <td>2</td>\n",
       "      <td>\u0010840 \u001d8:&gt;;09GC:</td>\n",
       "    </tr>\n",
       "    <tr>\n",
       "      <th>3</th>\n",
       "      <td>3</td>\n",
       "      <td>\u0010;5:A0=4@ \u001620:8= (\u001b&gt;: \u0014&gt;3)</td>\n",
       "    </tr>\n",
       "    <tr>\n",
       "      <th>4</th>\n",
       "      <td>4</td>\n",
       "      <td>\u00110=40 G5BK@QE</td>\n",
       "    </tr>\n",
       "  </tbody>\n",
       "</table>\n",
       "</div>"
      ],
      "text/plain": [
       "   artist_id                 artist_name\n",
       "0          0                         NaN\n",
       "1          1               \u0001##Horror Inc\n",
       "2          2             \u0010840 \n",
       "8:>;09GC:\n",
       "3          3  \u0010;5:A0=4@ \u001620:8= (\u001b>: \u0014>3)\n",
       "4          4               \u00110=40 G5BK@QE"
      ]
     },
     "execution_count": 44,
     "metadata": {},
     "output_type": "execute_result"
    }
   ],
   "source": [
    "artists_lfm.head()"
   ]
  },
  {
   "cell_type": "code",
   "execution_count": 45,
   "metadata": {},
   "outputs": [
    {
     "data": {
      "text/plain": [
       "Index(['annotation', 'genres', 'relations', 'end_area', 'tags', 'sort-name',\n",
       "       'area', 'type', 'gender', 'isnis', 'end-area', 'type-id', 'name',\n",
       "       'disambiguation', 'ipis', 'begin-area', 'gender-id', 'id', 'rating',\n",
       "       'begin_area', 'aliases', 'life-span', 'country'],\n",
       "      dtype='object')"
      ]
     },
     "execution_count": 45,
     "metadata": {},
     "output_type": "execute_result"
    }
   ],
   "source": [
    "pd.read_json(MB_ROOT_DIR.format(\"artist\"), lines=True, nrows=1).columns"
   ]
  },
  {
   "cell_type": "code",
   "execution_count": 50,
   "metadata": {},
   "outputs": [],
   "source": [
    "artists_mb = pd.read_json(MB_ROOT_DIR.format(\"artist\"), lines=True, chunksize=100000)"
   ]
  },
  {
   "cell_type": "code",
   "execution_count": 47,
   "metadata": {},
   "outputs": [
    {
     "name": "stdout",
     "output_type": "stream",
     "text": [
      "63G\t/network/scratch/a/armin.moradi/data\n"
     ]
    }
   ],
   "source": [
    "!du -sh $scratch_directory/data"
   ]
  },
  {
   "cell_type": "code",
   "execution_count": 55,
   "metadata": {},
   "outputs": [
    {
     "name": "stdout",
     "output_type": "stream",
     "text": [
      "<class 'pandas.core.frame.DataFrame'> <class 'pandas.core.frame.DataFrame'>\n",
      "0 Done!\n",
      "<class 'pandas.core.frame.DataFrame'> <class 'pandas.core.frame.DataFrame'>\n"
     ]
    },
    {
     "ename": "KeyboardInterrupt",
     "evalue": "",
     "output_type": "error",
     "traceback": [
      "\u001b[0;31m---------------------------------------------------------------------------\u001b[0m",
      "\u001b[0;31mKeyboardInterrupt\u001b[0m                         Traceback (most recent call last)",
      "\u001b[0;32m<ipython-input-55-44349829ef59>\u001b[0m in \u001b[0;36m<module>\u001b[0;34m\u001b[0m\n\u001b[1;32m      9\u001b[0m         \u001b[0mi\u001b[0m\u001b[0;34m+=\u001b[0m \u001b[0;36m1\u001b[0m\u001b[0;34m\u001b[0m\u001b[0;34m\u001b[0m\u001b[0m\n\u001b[1;32m     10\u001b[0m     \u001b[0;32melse\u001b[0m\u001b[0;34m:\u001b[0m\u001b[0;34m\u001b[0m\u001b[0;34m\u001b[0m\u001b[0m\n\u001b[0;32m---> 11\u001b[0;31m         \u001b[0mresult_df\u001b[0m\u001b[0;34m.\u001b[0m\u001b[0mto_csv\u001b[0m\u001b[0;34m(\u001b[0m\u001b[0mDST_FOLDER\u001b[0m\u001b[0;34m,\u001b[0m \u001b[0mmode\u001b[0m\u001b[0;34m=\u001b[0m\u001b[0;34m'a'\u001b[0m\u001b[0;34m,\u001b[0m \u001b[0mheader\u001b[0m\u001b[0;34m=\u001b[0m\u001b[0;32mFalse\u001b[0m\u001b[0;34m,\u001b[0m \u001b[0mindex\u001b[0m\u001b[0;34m=\u001b[0m\u001b[0;32mFalse\u001b[0m\u001b[0;34m)\u001b[0m\u001b[0;34m\u001b[0m\u001b[0;34m\u001b[0m\u001b[0m\n\u001b[0m\u001b[1;32m     12\u001b[0m         \u001b[0mi\u001b[0m \u001b[0;34m+=\u001b[0m \u001b[0;36m1\u001b[0m\u001b[0;34m\u001b[0m\u001b[0;34m\u001b[0m\u001b[0m\n\u001b[1;32m     13\u001b[0m         \u001b[0mprint\u001b[0m\u001b[0;34m(\u001b[0m\u001b[0mi\u001b[0m\u001b[0;34m,\u001b[0m \u001b[0;34m'Done!'\u001b[0m\u001b[0;34m)\u001b[0m\u001b[0;34m\u001b[0m\u001b[0;34m\u001b[0m\u001b[0m\n",
      "\u001b[0;32m~/.conda/envs/crs_env/lib/python3.6/site-packages/pandas/core/generic.py\u001b[0m in \u001b[0;36mto_csv\u001b[0;34m(self, path_or_buf, sep, na_rep, float_format, columns, header, index, index_label, mode, encoding, compression, quoting, quotechar, line_terminator, chunksize, date_format, doublequote, escapechar, decimal, errors)\u001b[0m\n\u001b[1;32m   3168\u001b[0m             \u001b[0mdecimal\u001b[0m\u001b[0;34m=\u001b[0m\u001b[0mdecimal\u001b[0m\u001b[0;34m,\u001b[0m\u001b[0;34m\u001b[0m\u001b[0;34m\u001b[0m\u001b[0m\n\u001b[1;32m   3169\u001b[0m         )\n\u001b[0;32m-> 3170\u001b[0;31m         \u001b[0mformatter\u001b[0m\u001b[0;34m.\u001b[0m\u001b[0msave\u001b[0m\u001b[0;34m(\u001b[0m\u001b[0;34m)\u001b[0m\u001b[0;34m\u001b[0m\u001b[0;34m\u001b[0m\u001b[0m\n\u001b[0m\u001b[1;32m   3171\u001b[0m \u001b[0;34m\u001b[0m\u001b[0m\n\u001b[1;32m   3172\u001b[0m         \u001b[0;32mif\u001b[0m \u001b[0mpath_or_buf\u001b[0m \u001b[0;32mis\u001b[0m \u001b[0;32mNone\u001b[0m\u001b[0;34m:\u001b[0m\u001b[0;34m\u001b[0m\u001b[0;34m\u001b[0m\u001b[0m\n",
      "\u001b[0;32m~/.conda/envs/crs_env/lib/python3.6/site-packages/pandas/io/formats/csvs.py\u001b[0m in \u001b[0;36msave\u001b[0;34m(self)\u001b[0m\n\u001b[1;32m    204\u001b[0m             )\n\u001b[1;32m    205\u001b[0m \u001b[0;34m\u001b[0m\u001b[0m\n\u001b[0;32m--> 206\u001b[0;31m             \u001b[0mself\u001b[0m\u001b[0;34m.\u001b[0m\u001b[0m_save\u001b[0m\u001b[0;34m(\u001b[0m\u001b[0;34m)\u001b[0m\u001b[0;34m\u001b[0m\u001b[0;34m\u001b[0m\u001b[0m\n\u001b[0m\u001b[1;32m    207\u001b[0m \u001b[0;34m\u001b[0m\u001b[0m\n\u001b[1;32m    208\u001b[0m         \u001b[0;32mfinally\u001b[0m\u001b[0;34m:\u001b[0m\u001b[0;34m\u001b[0m\u001b[0;34m\u001b[0m\u001b[0m\n",
      "\u001b[0;32m~/.conda/envs/crs_env/lib/python3.6/site-packages/pandas/io/formats/csvs.py\u001b[0m in \u001b[0;36m_save\u001b[0;34m(self)\u001b[0m\n\u001b[1;32m    326\u001b[0m                 \u001b[0;32mbreak\u001b[0m\u001b[0;34m\u001b[0m\u001b[0;34m\u001b[0m\u001b[0m\n\u001b[1;32m    327\u001b[0m \u001b[0;34m\u001b[0m\u001b[0m\n\u001b[0;32m--> 328\u001b[0;31m             \u001b[0mself\u001b[0m\u001b[0;34m.\u001b[0m\u001b[0m_save_chunk\u001b[0m\u001b[0;34m(\u001b[0m\u001b[0mstart_i\u001b[0m\u001b[0;34m,\u001b[0m \u001b[0mend_i\u001b[0m\u001b[0;34m)\u001b[0m\u001b[0;34m\u001b[0m\u001b[0;34m\u001b[0m\u001b[0m\n\u001b[0m\u001b[1;32m    329\u001b[0m \u001b[0;34m\u001b[0m\u001b[0m\n\u001b[1;32m    330\u001b[0m     \u001b[0;32mdef\u001b[0m \u001b[0m_save_chunk\u001b[0m\u001b[0;34m(\u001b[0m\u001b[0mself\u001b[0m\u001b[0;34m,\u001b[0m \u001b[0mstart_i\u001b[0m\u001b[0;34m:\u001b[0m \u001b[0mint\u001b[0m\u001b[0;34m,\u001b[0m \u001b[0mend_i\u001b[0m\u001b[0;34m:\u001b[0m \u001b[0mint\u001b[0m\u001b[0;34m)\u001b[0m \u001b[0;34m->\u001b[0m \u001b[0;32mNone\u001b[0m\u001b[0;34m:\u001b[0m\u001b[0;34m\u001b[0m\u001b[0;34m\u001b[0m\u001b[0m\n",
      "\u001b[0;32m~/.conda/envs/crs_env/lib/python3.6/site-packages/pandas/io/formats/csvs.py\u001b[0m in \u001b[0;36m_save_chunk\u001b[0;34m(self, start_i, end_i)\u001b[0m\n\u001b[1;32m    360\u001b[0m         )\n\u001b[1;32m    361\u001b[0m \u001b[0;34m\u001b[0m\u001b[0m\n\u001b[0;32m--> 362\u001b[0;31m         \u001b[0mlibwriters\u001b[0m\u001b[0;34m.\u001b[0m\u001b[0mwrite_csv_rows\u001b[0m\u001b[0;34m(\u001b[0m\u001b[0mself\u001b[0m\u001b[0;34m.\u001b[0m\u001b[0mdata\u001b[0m\u001b[0;34m,\u001b[0m \u001b[0mix\u001b[0m\u001b[0;34m,\u001b[0m \u001b[0mself\u001b[0m\u001b[0;34m.\u001b[0m\u001b[0mnlevels\u001b[0m\u001b[0;34m,\u001b[0m \u001b[0mself\u001b[0m\u001b[0;34m.\u001b[0m\u001b[0mcols\u001b[0m\u001b[0;34m,\u001b[0m \u001b[0mself\u001b[0m\u001b[0;34m.\u001b[0m\u001b[0mwriter\u001b[0m\u001b[0;34m)\u001b[0m\u001b[0;34m\u001b[0m\u001b[0;34m\u001b[0m\u001b[0m\n\u001b[0m",
      "\u001b[0;32mpandas/_libs/writers.pyx\u001b[0m in \u001b[0;36mpandas._libs.writers.write_csv_rows\u001b[0;34m()\u001b[0m\n",
      "\u001b[0;31mKeyboardInterrupt\u001b[0m: "
     ]
    }
   ],
   "source": [
    "i = 0\n",
    "DST_FOLDER = f\"{scratch_directory}/data/merged_artists.csv\"\n",
    "for artist_mb_chunk in artists_mb:\n",
    "    result_df = pd.merge(artist_mb_chunk, artists_lfm, left_on='name', right_on='artist_name', how='inner')\n",
    "    if i == 0:\n",
    "        result_df.to_csv(DST_FOLDER, mode='w', index=False)\n",
    "        print(i, 'Done!')\n",
    "        i+= 1\n",
    "    else:\n",
    "        result_df.to_csv(DST_FOLDER, mode='a', header=False, index=False)\n",
    "        i += 1\n",
    "        print(i, 'Done!')\n"
   ]
  },
  {
   "cell_type": "code",
   "execution_count": 54,
   "metadata": {},
   "outputs": [
    {
     "data": {
      "text/plain": [
       "'/network/scratch/a/armin.moradi/data/merged_artists.csv'"
      ]
     },
     "execution_count": 54,
     "metadata": {},
     "output_type": "execute_result"
    }
   ],
   "source": [
    "DST_FOLDER"
   ]
  },
  {
   "cell_type": "code",
   "execution_count": null,
   "metadata": {},
   "outputs": [
    {
     "data": {
      "text/plain": [
       "Index(['end-area', 'type', 'isnis', 'gender', 'end_area', 'relations', 'area',\n",
       "       'sort-name', 'tags', 'annotation', 'genres', 'begin_area', 'rating',\n",
       "       'country', 'life-span', 'aliases', 'id', 'begin-area', 'ipis',\n",
       "       'gender-id', 'name', 'type-id', 'disambiguation', 'artist_id',\n",
       "       'artist_name'],\n",
       "      dtype='object')"
      ]
     },
     "execution_count": 9,
     "metadata": {},
     "output_type": "execute_result"
    }
   ],
   "source": [
    "result_df.columns"
   ]
  },
  {
   "cell_type": "code",
   "execution_count": null,
   "metadata": {},
   "outputs": [],
   "source": []
  },
  {
   "cell_type": "code",
   "execution_count": null,
   "metadata": {},
   "outputs": [
    {
     "name": "stdout",
     "output_type": "stream",
     "text": [
      "Usage: mv [OPTION]... [-T] SOURCE DEST\n",
      "  or:  mv [OPTION]... SOURCE... DIRECTORY\n",
      "  or:  mv [OPTION]... -t DIRECTORY SOURCE...\n",
      "Rename SOURCE to DEST, or move SOURCE(s) to DIRECTORY.\n",
      "\n",
      "Mandatory arguments to long options are mandatory for short options too.\n",
      "      --backup[=CONTROL]       make a backup of each existing destination file\n",
      "  -b                           like --backup but does not accept an argument\n",
      "  -f, --force                  do not prompt before overwriting\n",
      "  -i, --interactive            prompt before overwrite\n",
      "  -n, --no-clobber             do not overwrite an existing file\n",
      "If you specify more than one of -i, -f, -n, only the final one takes effect.\n",
      "      --strip-trailing-slashes  remove any trailing slashes from each SOURCE\n",
      "                                 argument\n",
      "  -S, --suffix=SUFFIX          override the usual backup suffix\n",
      "  -t, --target-directory=DIRECTORY  move all SOURCE arguments into DIRECTORY\n",
      "  -T, --no-target-directory    treat DEST as a normal file\n",
      "  -u, --update                 move only when the SOURCE file is newer\n",
      "                                 than the destination file or when the\n",
      "                                 destination file is missing\n",
      "  -v, --verbose                explain what is being done\n",
      "  -Z, --context                set SELinux security context of destination\n",
      "                                 file to default type\n",
      "      --help     display this help and exit\n",
      "      --version  output version information and exit\n",
      "\n",
      "The backup suffix is '~', unless set with --suffix or SIMPLE_BACKUP_SUFFIX.\n",
      "The version control method may be selected via the --backup option or through\n",
      "the VERSION_CONTROL environment variable.  Here are the values:\n",
      "\n",
      "  none, off       never make backups (even if --backup is given)\n",
      "  numbered, t     make numbered backups\n",
      "  existing, nil   numbered if numbered backups exist, simple otherwise\n",
      "  simple, never   always make simple backups\n",
      "\n",
      "GNU coreutils online help: <http://www.gnu.org/software/coreutils/>\n",
      "Full documentation at: <http://www.gnu.org/software/coreutils/mv>\n",
      "or available locally via: info '(coreutils) mv invocation'\n"
     ]
    }
   ],
   "source": [
    "# !mv -r data/ $SCRATCH\n",
    "!mv --help"
   ]
  },
  {
   "cell_type": "code",
   "execution_count": null,
   "metadata": {},
   "outputs": [
    {
     "data": {
      "text/html": [
       "<div>\n",
       "<style scoped>\n",
       "    .dataframe tbody tr th:only-of-type {\n",
       "        vertical-align: middle;\n",
       "    }\n",
       "\n",
       "    .dataframe tbody tr th {\n",
       "        vertical-align: top;\n",
       "    }\n",
       "\n",
       "    .dataframe thead th {\n",
       "        text-align: right;\n",
       "    }\n",
       "</style>\n",
       "<table border=\"1\" class=\"dataframe\">\n",
       "  <thead>\n",
       "    <tr style=\"text-align: right;\">\n",
       "      <th></th>\n",
       "      <th>name</th>\n",
       "      <th>artist_name</th>\n",
       "      <th>country</th>\n",
       "      <th>life-span</th>\n",
       "      <th>gender</th>\n",
       "      <th>area</th>\n",
       "    </tr>\n",
       "  </thead>\n",
       "  <tbody>\n",
       "    <tr>\n",
       "      <th>0</th>\n",
       "      <td>The Starfires</td>\n",
       "      <td>The Starfires</td>\n",
       "      <td>None</td>\n",
       "      <td>{'ended': True, 'end': '1967', 'begin': '1965'}</td>\n",
       "      <td>None</td>\n",
       "      <td>{'type-id': None, 'type': None, 'name': 'Los A...</td>\n",
       "    </tr>\n",
       "    <tr>\n",
       "      <th>1</th>\n",
       "      <td>Aslyn</td>\n",
       "      <td>Aslyn</td>\n",
       "      <td>US</td>\n",
       "      <td>{'ended': False, 'end': None, 'begin': '1980-0...</td>\n",
       "      <td>Female</td>\n",
       "      <td>{'id': '489ce91b-6658-3307-9877-795b68554c98',...</td>\n",
       "    </tr>\n",
       "    <tr>\n",
       "      <th>2</th>\n",
       "      <td>Bernd Spier</td>\n",
       "      <td>Bernd Spier</td>\n",
       "      <td>DE</td>\n",
       "      <td>{'ended': True, 'end': '2017-12-30', 'begin': ...</td>\n",
       "      <td>Male</td>\n",
       "      <td>{'name': 'Germany', 'type': None, 'type-id': N...</td>\n",
       "    </tr>\n",
       "    <tr>\n",
       "      <th>3</th>\n",
       "      <td>Stereo Maracanã</td>\n",
       "      <td>Stereo Maracanã</td>\n",
       "      <td>None</td>\n",
       "      <td>{'begin': None, 'end': None, 'ended': False}</td>\n",
       "      <td>None</td>\n",
       "      <td>None</td>\n",
       "    </tr>\n",
       "    <tr>\n",
       "      <th>4</th>\n",
       "      <td>Humanos</td>\n",
       "      <td>Humanos</td>\n",
       "      <td>PT</td>\n",
       "      <td>{'begin': '2004', 'end': '2006', 'ended': True}</td>\n",
       "      <td>None</td>\n",
       "      <td>{'sort-name': 'Portugal', 'id': '781b0c54-3d54...</td>\n",
       "    </tr>\n",
       "    <tr>\n",
       "      <th>5</th>\n",
       "      <td>The African Dream</td>\n",
       "      <td>The African Dream</td>\n",
       "      <td>None</td>\n",
       "      <td>{'begin': None, 'ended': False, 'end': None}</td>\n",
       "      <td>None</td>\n",
       "      <td>None</td>\n",
       "    </tr>\n",
       "    <tr>\n",
       "      <th>6</th>\n",
       "      <td>The Mom's Boys</td>\n",
       "      <td>The Mom's Boys</td>\n",
       "      <td>US</td>\n",
       "      <td>{'ended': False, 'end': None, 'begin': None}</td>\n",
       "      <td>None</td>\n",
       "      <td>{'sort-name': 'United States', 'iso-3166-1-cod...</td>\n",
       "    </tr>\n",
       "    <tr>\n",
       "      <th>7</th>\n",
       "      <td>T.E.M.P.O.</td>\n",
       "      <td>T.E.M.P.O.</td>\n",
       "      <td>JP</td>\n",
       "      <td>{'end': None, 'ended': False, 'begin': None}</td>\n",
       "      <td>Male</td>\n",
       "      <td>{'sort-name': 'Japan', 'id': '2db42837-c832-3c...</td>\n",
       "    </tr>\n",
       "    <tr>\n",
       "      <th>8</th>\n",
       "      <td>The Tall Boy</td>\n",
       "      <td>The Tall Boy</td>\n",
       "      <td>None</td>\n",
       "      <td>{'begin': None, 'end': None, 'ended': False}</td>\n",
       "      <td>None</td>\n",
       "      <td>None</td>\n",
       "    </tr>\n",
       "    <tr>\n",
       "      <th>9</th>\n",
       "      <td>Debi Graham</td>\n",
       "      <td>Debi Graham</td>\n",
       "      <td>None</td>\n",
       "      <td>{'ended': False, 'end': None, 'begin': None}</td>\n",
       "      <td>None</td>\n",
       "      <td>None</td>\n",
       "    </tr>\n",
       "  </tbody>\n",
       "</table>\n",
       "</div>"
      ],
      "text/plain": [
       "                name        artist_name country  \\\n",
       "0      The Starfires      The Starfires    None   \n",
       "1              Aslyn              Aslyn      US   \n",
       "2        Bernd Spier        Bernd Spier      DE   \n",
       "3    Stereo Maracanã    Stereo Maracanã    None   \n",
       "4            Humanos            Humanos      PT   \n",
       "5  The African Dream  The African Dream    None   \n",
       "6     The Mom's Boys     The Mom's Boys      US   \n",
       "7         T.E.M.P.O.         T.E.M.P.O.      JP   \n",
       "8       The Tall Boy       The Tall Boy    None   \n",
       "9        Debi Graham        Debi Graham    None   \n",
       "\n",
       "                                           life-span  gender  \\\n",
       "0    {'ended': True, 'end': '1967', 'begin': '1965'}    None   \n",
       "1  {'ended': False, 'end': None, 'begin': '1980-0...  Female   \n",
       "2  {'ended': True, 'end': '2017-12-30', 'begin': ...    Male   \n",
       "3       {'begin': None, 'end': None, 'ended': False}    None   \n",
       "4    {'begin': '2004', 'end': '2006', 'ended': True}    None   \n",
       "5       {'begin': None, 'ended': False, 'end': None}    None   \n",
       "6       {'ended': False, 'end': None, 'begin': None}    None   \n",
       "7       {'end': None, 'ended': False, 'begin': None}    Male   \n",
       "8       {'begin': None, 'end': None, 'ended': False}    None   \n",
       "9       {'ended': False, 'end': None, 'begin': None}    None   \n",
       "\n",
       "                                                area  \n",
       "0  {'type-id': None, 'type': None, 'name': 'Los A...  \n",
       "1  {'id': '489ce91b-6658-3307-9877-795b68554c98',...  \n",
       "2  {'name': 'Germany', 'type': None, 'type-id': N...  \n",
       "3                                               None  \n",
       "4  {'sort-name': 'Portugal', 'id': '781b0c54-3d54...  \n",
       "5                                               None  \n",
       "6  {'sort-name': 'United States', 'iso-3166-1-cod...  \n",
       "7  {'sort-name': 'Japan', 'id': '2db42837-c832-3c...  \n",
       "8                                               None  \n",
       "9                                               None  "
      ]
     },
     "execution_count": 18,
     "metadata": {},
     "output_type": "execute_result"
    }
   ],
   "source": [
    "dfdf[['name', 'artist_name', 'country', 'life-span', 'gender', 'area']]"
   ]
  },
  {
   "cell_type": "code",
   "execution_count": null,
   "metadata": {},
   "outputs": [],
   "source": [
    "import pandas as pd\n",
    "df = pd.read_csv('data/merged_artists.csv', nrows=10)"
   ]
  },
  {
   "cell_type": "code",
   "execution_count": null,
   "metadata": {},
   "outputs": [
    {
     "data": {
      "text/html": [
       "<div>\n",
       "<style scoped>\n",
       "    .dataframe tbody tr th:only-of-type {\n",
       "        vertical-align: middle;\n",
       "    }\n",
       "\n",
       "    .dataframe tbody tr th {\n",
       "        vertical-align: top;\n",
       "    }\n",
       "\n",
       "    .dataframe thead th {\n",
       "        text-align: right;\n",
       "    }\n",
       "</style>\n",
       "<table border=\"1\" class=\"dataframe\">\n",
       "  <thead>\n",
       "    <tr style=\"text-align: right;\">\n",
       "      <th></th>\n",
       "      <th>name</th>\n",
       "      <th>artist_name</th>\n",
       "    </tr>\n",
       "  </thead>\n",
       "  <tbody>\n",
       "    <tr>\n",
       "      <th>0</th>\n",
       "      <td>Young American Primitive</td>\n",
       "      <td>Young American Primitive</td>\n",
       "    </tr>\n",
       "    <tr>\n",
       "      <th>1</th>\n",
       "      <td>Minutemen</td>\n",
       "      <td>Minutemen</td>\n",
       "    </tr>\n",
       "    <tr>\n",
       "      <th>2</th>\n",
       "      <td>Vital Signs</td>\n",
       "      <td>Vital Signs</td>\n",
       "    </tr>\n",
       "    <tr>\n",
       "      <th>3</th>\n",
       "      <td>J.D.K.BAND</td>\n",
       "      <td>J.D.K.BAND</td>\n",
       "    </tr>\n",
       "    <tr>\n",
       "      <th>4</th>\n",
       "      <td>Niagara</td>\n",
       "      <td>Niagara</td>\n",
       "    </tr>\n",
       "  </tbody>\n",
       "</table>\n",
       "</div>"
      ],
      "text/plain": [
       "                       name               artist_name\n",
       "0  Young American Primitive  Young American Primitive\n",
       "1                 Minutemen                 Minutemen\n",
       "2               Vital Signs               Vital Signs\n",
       "3                J.D.K.BAND                J.D.K.BAND\n",
       "4                   Niagara                   Niagara"
      ]
     },
     "execution_count": 10,
     "metadata": {},
     "output_type": "execute_result"
    }
   ],
   "source": [
    "df[['name', 'artist_name']].head()"
   ]
  },
  {
   "cell_type": "code",
   "execution_count": null,
   "metadata": {},
   "outputs": [],
   "source": []
  }
 ],
 "metadata": {
  "kernelspec": {
   "display_name": "Python 3",
   "language": "python",
   "name": "python3"
  },
  "language_info": {
   "codemirror_mode": {
    "name": "ipython",
    "version": 3
   },
   "file_extension": ".py",
   "mimetype": "text/x-python",
   "name": "python",
   "nbconvert_exporter": "python",
   "pygments_lexer": "ipython3",
   "version": "3.6.9"
  },
  "orig_nbformat": 4
 },
 "nbformat": 4,
 "nbformat_minor": 2
}
