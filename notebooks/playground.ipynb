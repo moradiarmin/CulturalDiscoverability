{
 "cells": [
  {
   "cell_type": "code",
   "execution_count": 28,
   "metadata": {},
   "outputs": [],
   "source": [
    "import pandas as pd\n",
    "import matplotlib.pyplot as plt\n",
    "\n",
    "ROOT_DIR = 'LFM-2b'\n",
    "\n",
    "\n",
    "\n",
    "albums = pd.read_csv(ROOT_DIR + '/albums.tsv.bz2', compression='bz2', sep='\\t', error_bad_lines=False, chunksize=100)\n",
    "artists = pd.read_csv(ROOT_DIR + '/artists.tsv.bz2', compression='bz2', sep='\\t', error_bad_lines=False, chunksize=100)\n",
    "listening_events = pd.read_csv(ROOT_DIR + '/listening-events.tsv.bz2', compression='bz2', sep='\\t', error_bad_lines=False, chunksize=100)\n",
    "listening_counts = pd.read_csv(ROOT_DIR + '/listening-counts.tsv.bz2', compression='bz2', sep='\\t', error_bad_lines=False, chunksize=100)\n",
    "\n",
    "# lyrics_features = pd.read_json(ROOT_DIR + '/lyrics-features.json.bz2', compression='bz2', lines=True, chunksize=100)\n",
    "spotify_uris = pd.read_csv(ROOT_DIR + '/spotify-uris.tsv.bz2', compression='bz2', sep='\\t', error_bad_lines=False, chunksize=100)\n",
    "# tags_micro_genres = pd.read_json(ROOT_DIR + '/tags-micro-genres.json.bz2', compression='bz2', lines=True, chunksize=100)\n",
    "# tags = pd.read_json(ROOT_DIR + '/tags.json.bz2', compression='bz2', lines=True, chunksize=100)\n",
    "\n",
    "tracks = pd.read_csv(ROOT_DIR + '/tracks.tsv.bz2', compression='bz2', sep='\\t', error_bad_lines=False, chunksize=100)\n",
    "users = pd.read_csv(ROOT_DIR + '/users.tsv.bz2', compression='bz2', sep='\\t', error_bad_lines=False, chunksize=100)"
   ]
  },
  {
   "cell_type": "code",
   "execution_count": 30,
   "metadata": {},
   "outputs": [
    {
     "name": "stdout",
     "output_type": "stream",
     "text": [
      "     album_id  album_name                                        artist_name\n",
      "100       100         NaN                     ! WWW.POLSKIE-MP3.TK ! zlote l\n",
      "101       101         NaN                  ! WWW.POLSKIE-MP3.TK ! zlote lata\n",
      "102       102         NaN        ! WWW.POLSKIE-MP3.TK ! zlote przeboje 60-70\n",
      "103       103         NaN  ! WWW.POLSKIE-MP3.TK ! zlote przeboje polskiej...\n",
      "104       104         NaN   ! WWW.POLSKIE-MP3.TK ! zlote przeboje socjalizmu\n"
     ]
    }
   ],
   "source": [
    "for t in albums:\n",
    "    print(t.head())\n",
    "    break"
   ]
  },
  {
   "cell_type": "code",
   "execution_count": 31,
   "metadata": {},
   "outputs": [
    {
     "name": "stdout",
     "output_type": "stream",
     "text": [
      "   artist_id                 artist_name\n",
      "0          0                         NaN\n",
      "1          1               \u0001##Horror Inc\n",
      "2          2             \u0010840 \u001d8:>;09GC:\n",
      "3          3  \u0010;5:A0=4@ \u001620:8= (\u001b>: \u0014>3)\n",
      "4          4               \u00110=40 G5BK@QE\n"
     ]
    }
   ],
   "source": [
    "for t in artists:\n",
    "    print(t.head())\n",
    "    break"
   ]
  },
  {
   "cell_type": "code",
   "execution_count": 35,
   "metadata": {},
   "outputs": [
    {
     "name": "stdout",
     "output_type": "stream",
     "text": [
      "   user_id  track_id  count\n",
      "0    92915  26719936      1\n",
      "1    92915   4271407      1\n",
      "2    92915   4606511      1\n",
      "3    92915   8966085      1\n",
      "4    92915  12290897      1\n"
     ]
    }
   ],
   "source": [
    "for t in listening_counts:\n",
    "    print(t.head())\n",
    "    break"
   ]
  },
  {
   "cell_type": "code",
   "execution_count": 34,
   "metadata": {},
   "outputs": [
    {
     "name": "stdout",
     "output_type": "stream",
     "text": [
      "     user_id  track_id  album_id            timestamp\n",
      "200    51549  27956643  11558340  2013-05-19 22:09:20\n",
      "201    51549  27956643  11558340  2013-05-19 22:05:54\n",
      "202    51549  27956643  11558340  2013-05-19 22:02:28\n",
      "203    51549  27956643  11558340  2013-05-19 21:59:01\n",
      "204    51549  27956643  11558340  2013-05-19 21:55:35\n"
     ]
    }
   ],
   "source": [
    "for t in listening_events:\n",
    "    print(t.head())\n",
    "    break"
   ]
  },
  {
   "cell_type": "code",
   "execution_count": 36,
   "metadata": {},
   "outputs": [
    {
     "name": "stdout",
     "output_type": "stream",
     "text": [
      "   track_id                     uri\n",
      "0  36346257  4wCmqSrbyCgxEXROQE6vtV\n",
      "1  32496162  4G8gkOterJn0Ywt6uhqbhp\n",
      "2  33619193  1c8gk2PeTE04A1pIDH9YMk\n",
      "3  32083560  7w87IxuO7BDcJ3YUqCyMTT\n",
      "4  45222862  6mFkJmJqdDVQ1REhVfGgd1\n"
     ]
    }
   ],
   "source": [
    "for t in spotify_uris:\n",
    "    print(t.head())\n",
    "    break"
   ]
  },
  {
   "cell_type": "code",
   "execution_count": 54,
   "metadata": {},
   "outputs": [
    {
     "name": "stdout",
     "output_type": "stream",
     "text": [
      "      track_id       artist_name                            track_name\n",
      "1500      2244      Materia Gris                         !Soy Tu Vida!\n",
      "1501      2245           Popskyy                                 !Spin\n",
      "1502      2246   Plastic Assault                               !Splat!\n",
      "1503      2247     3 Mustaphas 3        !Starehe Mustapha! I, II & III\n",
      "1504      2248  Nenia C'alladhan  !Sternblumennacht (original Version)\n"
     ]
    }
   ],
   "source": [
    "for t in tracks:\n",
    "    print(t.head())\n",
    "    break"
   ]
  },
  {
   "cell_type": "code",
   "execution_count": 43,
   "metadata": {},
   "outputs": [
    {
     "name": "stdout",
     "output_type": "stream",
     "text": [
      "     user_id country  age gender        creation_time\n",
      "100      100      US   24      m  2004-03-15 04:06:17\n",
      "101      101      DE   26      f  2004-03-14 21:32:43\n",
      "102      102      US   32      m  2004-03-15 22:23:15\n",
      "103      103      RU   -1      n  2004-03-18 13:03:09\n",
      "104      104      RU   29      f  2004-03-18 16:28:04\n"
     ]
    }
   ],
   "source": [
    "for t in users:\n",
    "    print(t.head())\n",
    "    break"
   ]
  },
  {
   "cell_type": "code",
   "execution_count": 33,
   "metadata": {},
   "outputs": [
    {
     "data": {
      "text/plain": [
       "(15258, 153)"
      ]
     },
     "execution_count": 33,
     "metadata": {},
     "output_type": "execute_result"
    }
   ],
   "source": [
    "len(users), len(users['country'].unique())"
   ]
  },
  {
   "cell_type": "code",
   "execution_count": 47,
   "metadata": {},
   "outputs": [
    {
     "data": {
      "text/plain": [
       "0.1437908496732026"
      ]
     },
     "execution_count": 47,
     "metadata": {},
     "output_type": "execute_result"
    }
   ],
   "source": [
    "# percentile of countries with more than 100 users\n",
    "len(users['country'].value_counts()[users['country'].value_counts() > 100]) / len(users['country'].unique())"
   ]
  },
  {
   "cell_type": "code",
   "execution_count": 3,
   "metadata": {},
   "outputs": [],
   "source": [
    "#42G     ./data\n",
    "#21G     ./LFM-2b\n",
    "import pandas as pd"
   ]
  },
  {
   "cell_type": "code",
   "execution_count": 5,
   "metadata": {},
   "outputs": [],
   "source": [
    "\n",
    "dataset = 'artist'\n",
    "path = 'data/json-dumps/20231028-001001/{}/mbdump/{}'.format(dataset, dataset)\n",
    "df = pd.read_json(path, chunksize=1000, lines=True)"
   ]
  },
  {
   "cell_type": "code",
   "execution_count": 20,
   "metadata": {},
   "outputs": [
    {
     "name": "stdout",
     "output_type": "stream",
     "text": [
      "Index(['type', 'gender', 'isnis', 'end-area', 'annotation', 'genres',\n",
      "       'relations', 'end_area', 'tags', 'sort-name', 'area', 'id', 'rating',\n",
      "       'begin_area', 'aliases', 'life-span', 'country', 'type-id', 'name',\n",
      "       'disambiguation', 'ipis', 'begin-area', 'gender-id'],\n",
      "      dtype='object')\n",
      "type                                                         Person\n",
      "gender                                                       Female\n",
      "isnis                                            [000000011450622X]\n",
      "end-area                                                       None\n",
      "annotation                                                     None\n",
      "genres            [{'count': 1, 'name': 'soul', 'id': '1b5e7b16-...\n",
      "relations         [{'direction': 'forward', 'target-credit': '',...\n",
      "end_area                                                       None\n",
      "tags              [{'name': 'classic pop and rock', 'count': 1},...\n",
      "sort-name                                              Adams, Oleta\n",
      "area              {'iso-3166-1-codes': ['US'], 'id': '489ce91b-6...\n",
      "id                             d3ffeb64-9d7b-4911-98e5-91ee26005ee9\n",
      "rating                            {'votes-count': 0, 'value': None}\n",
      "begin_area        {'sort-name': 'Seattle', 'id': '10adc6b5-63bf-...\n",
      "aliases           [{'ended': False, 'locale': None, 'end': None,...\n",
      "life-span         {'ended': False, 'end': None, 'begin': '1954-0...\n",
      "country                                                          US\n",
      "type-id                        b6e035f4-3ce9-331c-97df-83397230b0df\n",
      "name                                                    Oleta Adams\n",
      "disambiguation                                                     \n",
      "ipis                                     [00035776560, 00231540900]\n",
      "begin-area        {'sort-name': 'Seattle', 'id': '10adc6b5-63bf-...\n",
      "gender-id                      93452b5a-a947-30c8-934f-6a4056b151c2\n",
      "Name: 9000, dtype: object ------\n",
      " Oleta Adams Adams, Oleta\n"
     ]
    }
   ],
   "source": [
    "i = 0\n",
    "for d in df:\n",
    "    # print column names for one row\n",
    "    print(d.columns)\n",
    "    print(d.iloc[i], '------\\n', d.iloc[i]['name'], d.iloc[i]['sort-name'])\n",
    "    break"
   ]
  },
  {
   "cell_type": "code",
   "execution_count": 9,
   "metadata": {},
   "outputs": [],
   "source": [
    "dataset = 'artists'\n",
    "path = 'LFM-2b/{}.tsv.bz2'.format(dataset)\n",
    "df_2b = pd.read_csv(path, sep='\\t', error_bad_lines=False, chunksize=1000)"
   ]
  },
  {
   "cell_type": "code",
   "execution_count": 23,
   "metadata": {},
   "outputs": [
    {
     "name": "stdout",
     "output_type": "stream",
     "text": [
      "Index(['artist_id', 'artist_name'], dtype='object')\n",
      "artist_id         103367\n",
      "artist_name    17secrets\n",
      "Name: 103000, dtype: object ------\n",
      " 17secrets\n"
     ]
    }
   ],
   "source": [
    "for d in df_2b:\n",
    "    # print column names for one row\n",
    "    print(d.columns)\n",
    "    print(d.iloc[i], '------\\n', d.iloc[i]['artist_name'])\n",
    "    break"
   ]
  },
  {
   "cell_type": "code",
   "execution_count": 27,
   "metadata": {},
   "outputs": [
    {
     "name": "stdout",
     "output_type": "stream",
     "text": [
      "         artist_id artist_name\n",
      "3059902    3060269       Oleta\n"
     ]
    }
   ],
   "source": [
    "for d in df_2b:\n",
    "    ddd = (d.loc[(d['artist_name'] == 'Oleta Adams Adams') | (d['artist_name'] == 'Oleta')])\n",
    "    if len(ddd) > 0:\n",
    "        print(ddd)\n",
    "        # print(d)\n",
    "        # break"
   ]
  },
  {
   "cell_type": "code",
   "execution_count": 31,
   "metadata": {},
   "outputs": [],
   "source": [
    "for d in df_2b:\n",
    "    print(len(d))\n",
    "    print('a')\n",
    "    break"
   ]
  },
  {
   "cell_type": "markdown",
   "metadata": {},
   "source": [
    "# Reading merged artists"
   ]
  },
  {
   "cell_type": "code",
   "execution_count": 7,
   "metadata": {},
   "outputs": [],
   "source": [
    "import pandas as pd"
   ]
  },
  {
   "cell_type": "code",
   "execution_count": 2,
   "metadata": {},
   "outputs": [],
   "source": [
    "import os\n",
    "\n",
    "scratch_directory = os.environ.get('SCRATCH') + '/'\n",
    "home_directory = os.environ.get('HOME') + '/'"
   ]
  },
  {
   "cell_type": "code",
   "execution_count": 8,
   "metadata": {},
   "outputs": [
    {
     "data": {
      "text/html": [
       "<div>\n",
       "<style scoped>\n",
       "    .dataframe tbody tr th:only-of-type {\n",
       "        vertical-align: middle;\n",
       "    }\n",
       "\n",
       "    .dataframe tbody tr th {\n",
       "        vertical-align: top;\n",
       "    }\n",
       "\n",
       "    .dataframe thead th {\n",
       "        text-align: right;\n",
       "    }\n",
       "</style>\n",
       "<table border=\"1\" class=\"dataframe\">\n",
       "  <thead>\n",
       "    <tr style=\"text-align: right;\">\n",
       "      <th></th>\n",
       "      <th>annotation</th>\n",
       "      <th>genres</th>\n",
       "      <th>relations</th>\n",
       "      <th>end_area</th>\n",
       "      <th>tags</th>\n",
       "      <th>sort-name</th>\n",
       "      <th>area</th>\n",
       "      <th>type</th>\n",
       "      <th>gender</th>\n",
       "      <th>isnis</th>\n",
       "      <th>...</th>\n",
       "      <th>begin-area</th>\n",
       "      <th>gender-id</th>\n",
       "      <th>id</th>\n",
       "      <th>rating</th>\n",
       "      <th>begin_area</th>\n",
       "      <th>aliases</th>\n",
       "      <th>life-span</th>\n",
       "      <th>country</th>\n",
       "      <th>artist_id</th>\n",
       "      <th>artist_name</th>\n",
       "    </tr>\n",
       "  </thead>\n",
       "  <tbody>\n",
       "    <tr>\n",
       "      <th>0</th>\n",
       "      <td>NaN</td>\n",
       "      <td>[]</td>\n",
       "      <td>[{'attributes': [], 'attribute-values': {}, 'a...</td>\n",
       "      <td>NaN</td>\n",
       "      <td>[]</td>\n",
       "      <td>Young American Primitive</td>\n",
       "      <td>{'iso-3166-1-codes': ['US'], 'id': '489ce91b-6...</td>\n",
       "      <td>Person</td>\n",
       "      <td>Male</td>\n",
       "      <td>['0000000369479622']</td>\n",
       "      <td>...</td>\n",
       "      <td>NaN</td>\n",
       "      <td>36d3d30a-839d-3eda-8cb3-29be4384e4a9</td>\n",
       "      <td>8636afa4-38d9-4024-9f82-0117716d5821</td>\n",
       "      <td>{'value': None, 'votes-count': 0}</td>\n",
       "      <td>NaN</td>\n",
       "      <td>[]</td>\n",
       "      <td>{'end': None, 'ended': False, 'begin': None}</td>\n",
       "      <td>US</td>\n",
       "      <td>4478946</td>\n",
       "      <td>Young American Primitive</td>\n",
       "    </tr>\n",
       "    <tr>\n",
       "      <th>1</th>\n",
       "      <td>NaN</td>\n",
       "      <td>[{'disambiguation': '', 'id': '00055e8b-b951-4...</td>\n",
       "      <td>[{'target-credit': '', 'type': 'collaboration'...</td>\n",
       "      <td>NaN</td>\n",
       "      <td>[{'count': 1, 'name': 'acoustic rock'}, {'coun...</td>\n",
       "      <td>Minutemen</td>\n",
       "      <td>{'sort-name': 'United States', 'iso-3166-1-cod...</td>\n",
       "      <td>Group</td>\n",
       "      <td>NaN</td>\n",
       "      <td>[]</td>\n",
       "      <td>...</td>\n",
       "      <td>{'id': 'f3e768a3-a9fc-4edb-879d-830247a75063',...</td>\n",
       "      <td>NaN</td>\n",
       "      <td>d4ad0149-d8ae-4105-8009-0221fce9ff35</td>\n",
       "      <td>{'votes-count': 1, 'value': 4}</td>\n",
       "      <td>{'id': 'f3e768a3-a9fc-4edb-879d-830247a75063',...</td>\n",
       "      <td>[{'sort-name': 'The Minutemen', 'primary': Non...</td>\n",
       "      <td>{'begin': '1980-02', 'ended': True, 'end': '19...</td>\n",
       "      <td>US</td>\n",
       "      <td>2809593</td>\n",
       "      <td>Minutemen</td>\n",
       "    </tr>\n",
       "    <tr>\n",
       "      <th>2</th>\n",
       "      <td>NaN</td>\n",
       "      <td>[]</td>\n",
       "      <td>[{'ended': True, 'end': '1988', 'type-id': '5b...</td>\n",
       "      <td>NaN</td>\n",
       "      <td>[{'name': 'jazz and blues', 'count': 1}, {'nam...</td>\n",
       "      <td>Vital Signs</td>\n",
       "      <td>{'name': 'Pakistan', 'type-id': None, 'type': ...</td>\n",
       "      <td>Group</td>\n",
       "      <td>NaN</td>\n",
       "      <td>[]</td>\n",
       "      <td>...</td>\n",
       "      <td>{'sort-name': 'Punjab', 'type': None, 'type-id...</td>\n",
       "      <td>NaN</td>\n",
       "      <td>b8cdb71e-77ea-45f1-a058-cdfce0472c18</td>\n",
       "      <td>{'value': None, 'votes-count': 0}</td>\n",
       "      <td>{'sort-name': 'Punjab', 'type': None, 'type-id...</td>\n",
       "      <td>[]</td>\n",
       "      <td>{'ended': True, 'end': '2013', 'begin': '1987'}</td>\n",
       "      <td>PK</td>\n",
       "      <td>4341829</td>\n",
       "      <td>Vital Signs</td>\n",
       "    </tr>\n",
       "    <tr>\n",
       "      <th>3</th>\n",
       "      <td>J.D.K.BAND was founded in 1989-1990 to play ar...</td>\n",
       "      <td>[]</td>\n",
       "      <td>[{'ended': True, 'type-id': '5be4c609-9afa-4ea...</td>\n",
       "      <td>NaN</td>\n",
       "      <td>[{'count': 1, 'name': 'falcom'}, {'count': 1, ...</td>\n",
       "      <td>J.D.K.BAND</td>\n",
       "      <td>{'type-id': None, 'type': None, 'name': 'Japan...</td>\n",
       "      <td>Group</td>\n",
       "      <td>NaN</td>\n",
       "      <td>[]</td>\n",
       "      <td>...</td>\n",
       "      <td>NaN</td>\n",
       "      <td>NaN</td>\n",
       "      <td>d43549b6-3f32-45a6-9101-f522dd46b3ec</td>\n",
       "      <td>{'value': None, 'votes-count': 0}</td>\n",
       "      <td>NaN</td>\n",
       "      <td>[{'sort-name': 'J.D.K. Band', 'primary': None,...</td>\n",
       "      <td>{'begin': '1989', 'end': '1995', 'ended': True}</td>\n",
       "      <td>JP</td>\n",
       "      <td>1988239</td>\n",
       "      <td>J.D.K.BAND</td>\n",
       "    </tr>\n",
       "    <tr>\n",
       "      <th>4</th>\n",
       "      <td>NaN</td>\n",
       "      <td>[{'disambiguation': '', 'id': '56407f9d-3398-4...</td>\n",
       "      <td>[{'attributes': [], 'attribute-values': {}, 'a...</td>\n",
       "      <td>NaN</td>\n",
       "      <td>[{'name': 'new wave', 'count': 1}, {'name': 'r...</td>\n",
       "      <td>Niagara</td>\n",
       "      <td>{'sort-name': 'France', 'id': '08310658-51eb-3...</td>\n",
       "      <td>Group</td>\n",
       "      <td>NaN</td>\n",
       "      <td>[]</td>\n",
       "      <td>...</td>\n",
       "      <td>{'type': None, 'type-id': None, 'name': 'Renne...</td>\n",
       "      <td>NaN</td>\n",
       "      <td>63265bdb-9c92-4517-94be-615773e76413</td>\n",
       "      <td>{'votes-count': 0, 'value': None}</td>\n",
       "      <td>{'type': None, 'type-id': None, 'name': 'Renne...</td>\n",
       "      <td>[]</td>\n",
       "      <td>{'begin': '1982', 'ended': True, 'end': '1993'}</td>\n",
       "      <td>FR</td>\n",
       "      <td>2967650</td>\n",
       "      <td>Niagara</td>\n",
       "    </tr>\n",
       "    <tr>\n",
       "      <th>...</th>\n",
       "      <td>...</td>\n",
       "      <td>...</td>\n",
       "      <td>...</td>\n",
       "      <td>...</td>\n",
       "      <td>...</td>\n",
       "      <td>...</td>\n",
       "      <td>...</td>\n",
       "      <td>...</td>\n",
       "      <td>...</td>\n",
       "      <td>...</td>\n",
       "      <td>...</td>\n",
       "      <td>...</td>\n",
       "      <td>...</td>\n",
       "      <td>...</td>\n",
       "      <td>...</td>\n",
       "      <td>...</td>\n",
       "      <td>...</td>\n",
       "      <td>...</td>\n",
       "      <td>...</td>\n",
       "      <td>...</td>\n",
       "      <td>...</td>\n",
       "    </tr>\n",
       "    <tr>\n",
       "      <th>927966</th>\n",
       "      <td>NaN</td>\n",
       "      <td>[]</td>\n",
       "      <td>NaN</td>\n",
       "      <td>featured on Everything's Perpetual of Syntheti...</td>\n",
       "      <td>Jess</td>\n",
       "      <td>b6e035f4-3ce9-331c-97df-83397230b0df</td>\n",
       "      <td>[]</td>\n",
       "      <td>NaN</td>\n",
       "      <td>{'begin': None, 'ended': False, 'end': None}</td>\n",
       "      <td>{'value': None, 'votes-count': 0}</td>\n",
       "      <td>...</td>\n",
       "      <td>[]</td>\n",
       "      <td>NaN</td>\n",
       "      <td>[]</td>\n",
       "      <td>NaN</td>\n",
       "      <td>NaN</td>\n",
       "      <td>NaN</td>\n",
       "      <td>[]</td>\n",
       "      <td>Person</td>\n",
       "      <td>2083059</td>\n",
       "      <td>Jess</td>\n",
       "    </tr>\n",
       "    <tr>\n",
       "      <th>927967</th>\n",
       "      <td>NaN</td>\n",
       "      <td>[]</td>\n",
       "      <td>NaN</td>\n",
       "      <td>Italian experimental free jazz trio</td>\n",
       "      <td>V.I.T.R.I.O.L.</td>\n",
       "      <td>e431f5f6-b5d2-343d-8b36-72607fffb74b</td>\n",
       "      <td>[{'begin': None, 'ended': False, 'locale': Non...</td>\n",
       "      <td>NaN</td>\n",
       "      <td>{'end': None, 'ended': False, 'begin': None}</td>\n",
       "      <td>{'votes-count': 0, 'value': None}</td>\n",
       "      <td>...</td>\n",
       "      <td>[{'end': None, 'type-id': '5be4c609-9afa-4ea0-...</td>\n",
       "      <td>NaN</td>\n",
       "      <td>[]</td>\n",
       "      <td>NaN</td>\n",
       "      <td>NaN</td>\n",
       "      <td>NaN</td>\n",
       "      <td>[]</td>\n",
       "      <td>Group</td>\n",
       "      <td>4288469</td>\n",
       "      <td>V.I.T.R.I.O.L.</td>\n",
       "    </tr>\n",
       "    <tr>\n",
       "      <th>927968</th>\n",
       "      <td>36d3d30a-839d-3eda-8cb3-29be4384e4a9</td>\n",
       "      <td>[]</td>\n",
       "      <td>NaN</td>\n",
       "      <td>actor</td>\n",
       "      <td>Peter Wright</td>\n",
       "      <td>b6e035f4-3ce9-331c-97df-83397230b0df</td>\n",
       "      <td>[]</td>\n",
       "      <td>NaN</td>\n",
       "      <td>{'end': None, 'ended': False, 'begin': None}</td>\n",
       "      <td>{'votes-count': 0, 'value': None}</td>\n",
       "      <td>...</td>\n",
       "      <td>[{'type-id': '0fdbe3c6-7700-4a31-ae54-b53f06ae...</td>\n",
       "      <td>NaN</td>\n",
       "      <td>[]</td>\n",
       "      <td>NaN</td>\n",
       "      <td>NaN</td>\n",
       "      <td>Male</td>\n",
       "      <td>[]</td>\n",
       "      <td>Person</td>\n",
       "      <td>3205651</td>\n",
       "      <td>Peter Wright</td>\n",
       "    </tr>\n",
       "    <tr>\n",
       "      <th>927969</th>\n",
       "      <td>NaN</td>\n",
       "      <td>[]</td>\n",
       "      <td>NaN</td>\n",
       "      <td>NaN</td>\n",
       "      <td>Aned Mota</td>\n",
       "      <td>b6e035f4-3ce9-331c-97df-83397230b0df</td>\n",
       "      <td>[]</td>\n",
       "      <td>NaN</td>\n",
       "      <td>{'begin': None, 'end': None, 'ended': False}</td>\n",
       "      <td>{'value': None, 'votes-count': 0}</td>\n",
       "      <td>...</td>\n",
       "      <td>[]</td>\n",
       "      <td>NaN</td>\n",
       "      <td>[]</td>\n",
       "      <td>NaN</td>\n",
       "      <td>NaN</td>\n",
       "      <td>NaN</td>\n",
       "      <td>[]</td>\n",
       "      <td>Person</td>\n",
       "      <td>366426</td>\n",
       "      <td>Aned Mota</td>\n",
       "    </tr>\n",
       "    <tr>\n",
       "      <th>927970</th>\n",
       "      <td>NaN</td>\n",
       "      <td>[]</td>\n",
       "      <td>NaN</td>\n",
       "      <td>featured on Everything's Perpetual of Syntheti...</td>\n",
       "      <td>Impress</td>\n",
       "      <td>NaN</td>\n",
       "      <td>[]</td>\n",
       "      <td>NaN</td>\n",
       "      <td>{'begin': None, 'end': None, 'ended': False}</td>\n",
       "      <td>{'value': None, 'votes-count': 0}</td>\n",
       "      <td>...</td>\n",
       "      <td>[]</td>\n",
       "      <td>NaN</td>\n",
       "      <td>[]</td>\n",
       "      <td>NaN</td>\n",
       "      <td>NaN</td>\n",
       "      <td>NaN</td>\n",
       "      <td>[]</td>\n",
       "      <td>NaN</td>\n",
       "      <td>1937422</td>\n",
       "      <td>Impress</td>\n",
       "    </tr>\n",
       "  </tbody>\n",
       "</table>\n",
       "<p>927971 rows × 25 columns</p>\n",
       "</div>"
      ],
      "text/plain": [
       "                                               annotation  \\\n",
       "0                                                     NaN   \n",
       "1                                                     NaN   \n",
       "2                                                     NaN   \n",
       "3       J.D.K.BAND was founded in 1989-1990 to play ar...   \n",
       "4                                                     NaN   \n",
       "...                                                   ...   \n",
       "927966                                                NaN   \n",
       "927967                                                NaN   \n",
       "927968               36d3d30a-839d-3eda-8cb3-29be4384e4a9   \n",
       "927969                                                NaN   \n",
       "927970                                                NaN   \n",
       "\n",
       "                                                   genres  \\\n",
       "0                                                      []   \n",
       "1       [{'disambiguation': '', 'id': '00055e8b-b951-4...   \n",
       "2                                                      []   \n",
       "3                                                      []   \n",
       "4       [{'disambiguation': '', 'id': '56407f9d-3398-4...   \n",
       "...                                                   ...   \n",
       "927966                                                 []   \n",
       "927967                                                 []   \n",
       "927968                                                 []   \n",
       "927969                                                 []   \n",
       "927970                                                 []   \n",
       "\n",
       "                                                relations  \\\n",
       "0       [{'attributes': [], 'attribute-values': {}, 'a...   \n",
       "1       [{'target-credit': '', 'type': 'collaboration'...   \n",
       "2       [{'ended': True, 'end': '1988', 'type-id': '5b...   \n",
       "3       [{'ended': True, 'type-id': '5be4c609-9afa-4ea...   \n",
       "4       [{'attributes': [], 'attribute-values': {}, 'a...   \n",
       "...                                                   ...   \n",
       "927966                                                NaN   \n",
       "927967                                                NaN   \n",
       "927968                                                NaN   \n",
       "927969                                                NaN   \n",
       "927970                                                NaN   \n",
       "\n",
       "                                                 end_area  \\\n",
       "0                                                     NaN   \n",
       "1                                                     NaN   \n",
       "2                                                     NaN   \n",
       "3                                                     NaN   \n",
       "4                                                     NaN   \n",
       "...                                                   ...   \n",
       "927966  featured on Everything's Perpetual of Syntheti...   \n",
       "927967                Italian experimental free jazz trio   \n",
       "927968                                              actor   \n",
       "927969                                                NaN   \n",
       "927970  featured on Everything's Perpetual of Syntheti...   \n",
       "\n",
       "                                                     tags  \\\n",
       "0                                                      []   \n",
       "1       [{'count': 1, 'name': 'acoustic rock'}, {'coun...   \n",
       "2       [{'name': 'jazz and blues', 'count': 1}, {'nam...   \n",
       "3       [{'count': 1, 'name': 'falcom'}, {'count': 1, ...   \n",
       "4       [{'name': 'new wave', 'count': 1}, {'name': 'r...   \n",
       "...                                                   ...   \n",
       "927966                                               Jess   \n",
       "927967                                     V.I.T.R.I.O.L.   \n",
       "927968                                       Peter Wright   \n",
       "927969                                          Aned Mota   \n",
       "927970                                            Impress   \n",
       "\n",
       "                                   sort-name  \\\n",
       "0                   Young American Primitive   \n",
       "1                                  Minutemen   \n",
       "2                                Vital Signs   \n",
       "3                                 J.D.K.BAND   \n",
       "4                                    Niagara   \n",
       "...                                      ...   \n",
       "927966  b6e035f4-3ce9-331c-97df-83397230b0df   \n",
       "927967  e431f5f6-b5d2-343d-8b36-72607fffb74b   \n",
       "927968  b6e035f4-3ce9-331c-97df-83397230b0df   \n",
       "927969  b6e035f4-3ce9-331c-97df-83397230b0df   \n",
       "927970                                   NaN   \n",
       "\n",
       "                                                     area    type  \\\n",
       "0       {'iso-3166-1-codes': ['US'], 'id': '489ce91b-6...  Person   \n",
       "1       {'sort-name': 'United States', 'iso-3166-1-cod...   Group   \n",
       "2       {'name': 'Pakistan', 'type-id': None, 'type': ...   Group   \n",
       "3       {'type-id': None, 'type': None, 'name': 'Japan...   Group   \n",
       "4       {'sort-name': 'France', 'id': '08310658-51eb-3...   Group   \n",
       "...                                                   ...     ...   \n",
       "927966                                                 []     NaN   \n",
       "927967  [{'begin': None, 'ended': False, 'locale': Non...     NaN   \n",
       "927968                                                 []     NaN   \n",
       "927969                                                 []     NaN   \n",
       "927970                                                 []     NaN   \n",
       "\n",
       "                                              gender  \\\n",
       "0                                               Male   \n",
       "1                                                NaN   \n",
       "2                                                NaN   \n",
       "3                                                NaN   \n",
       "4                                                NaN   \n",
       "...                                              ...   \n",
       "927966  {'begin': None, 'ended': False, 'end': None}   \n",
       "927967  {'end': None, 'ended': False, 'begin': None}   \n",
       "927968  {'end': None, 'ended': False, 'begin': None}   \n",
       "927969  {'begin': None, 'end': None, 'ended': False}   \n",
       "927970  {'begin': None, 'end': None, 'ended': False}   \n",
       "\n",
       "                                    isnis  ...  \\\n",
       "0                    ['0000000369479622']  ...   \n",
       "1                                      []  ...   \n",
       "2                                      []  ...   \n",
       "3                                      []  ...   \n",
       "4                                      []  ...   \n",
       "...                                   ...  ...   \n",
       "927966  {'value': None, 'votes-count': 0}  ...   \n",
       "927967  {'votes-count': 0, 'value': None}  ...   \n",
       "927968  {'votes-count': 0, 'value': None}  ...   \n",
       "927969  {'value': None, 'votes-count': 0}  ...   \n",
       "927970  {'value': None, 'votes-count': 0}  ...   \n",
       "\n",
       "                                               begin-area  \\\n",
       "0                                                     NaN   \n",
       "1       {'id': 'f3e768a3-a9fc-4edb-879d-830247a75063',...   \n",
       "2       {'sort-name': 'Punjab', 'type': None, 'type-id...   \n",
       "3                                                     NaN   \n",
       "4       {'type': None, 'type-id': None, 'name': 'Renne...   \n",
       "...                                                   ...   \n",
       "927966                                                 []   \n",
       "927967  [{'end': None, 'type-id': '5be4c609-9afa-4ea0-...   \n",
       "927968  [{'type-id': '0fdbe3c6-7700-4a31-ae54-b53f06ae...   \n",
       "927969                                                 []   \n",
       "927970                                                 []   \n",
       "\n",
       "                                   gender-id  \\\n",
       "0       36d3d30a-839d-3eda-8cb3-29be4384e4a9   \n",
       "1                                        NaN   \n",
       "2                                        NaN   \n",
       "3                                        NaN   \n",
       "4                                        NaN   \n",
       "...                                      ...   \n",
       "927966                                   NaN   \n",
       "927967                                   NaN   \n",
       "927968                                   NaN   \n",
       "927969                                   NaN   \n",
       "927970                                   NaN   \n",
       "\n",
       "                                          id  \\\n",
       "0       8636afa4-38d9-4024-9f82-0117716d5821   \n",
       "1       d4ad0149-d8ae-4105-8009-0221fce9ff35   \n",
       "2       b8cdb71e-77ea-45f1-a058-cdfce0472c18   \n",
       "3       d43549b6-3f32-45a6-9101-f522dd46b3ec   \n",
       "4       63265bdb-9c92-4517-94be-615773e76413   \n",
       "...                                      ...   \n",
       "927966                                    []   \n",
       "927967                                    []   \n",
       "927968                                    []   \n",
       "927969                                    []   \n",
       "927970                                    []   \n",
       "\n",
       "                                   rating  \\\n",
       "0       {'value': None, 'votes-count': 0}   \n",
       "1          {'votes-count': 1, 'value': 4}   \n",
       "2       {'value': None, 'votes-count': 0}   \n",
       "3       {'value': None, 'votes-count': 0}   \n",
       "4       {'votes-count': 0, 'value': None}   \n",
       "...                                   ...   \n",
       "927966                                NaN   \n",
       "927967                                NaN   \n",
       "927968                                NaN   \n",
       "927969                                NaN   \n",
       "927970                                NaN   \n",
       "\n",
       "                                               begin_area  \\\n",
       "0                                                     NaN   \n",
       "1       {'id': 'f3e768a3-a9fc-4edb-879d-830247a75063',...   \n",
       "2       {'sort-name': 'Punjab', 'type': None, 'type-id...   \n",
       "3                                                     NaN   \n",
       "4       {'type': None, 'type-id': None, 'name': 'Renne...   \n",
       "...                                                   ...   \n",
       "927966                                                NaN   \n",
       "927967                                                NaN   \n",
       "927968                                                NaN   \n",
       "927969                                                NaN   \n",
       "927970                                                NaN   \n",
       "\n",
       "                                                  aliases  \\\n",
       "0                                                      []   \n",
       "1       [{'sort-name': 'The Minutemen', 'primary': Non...   \n",
       "2                                                      []   \n",
       "3       [{'sort-name': 'J.D.K. Band', 'primary': None,...   \n",
       "4                                                      []   \n",
       "...                                                   ...   \n",
       "927966                                                NaN   \n",
       "927967                                                NaN   \n",
       "927968                                               Male   \n",
       "927969                                                NaN   \n",
       "927970                                                NaN   \n",
       "\n",
       "                                                life-span country artist_id  \\\n",
       "0            {'end': None, 'ended': False, 'begin': None}      US   4478946   \n",
       "1       {'begin': '1980-02', 'ended': True, 'end': '19...      US   2809593   \n",
       "2         {'ended': True, 'end': '2013', 'begin': '1987'}      PK   4341829   \n",
       "3         {'begin': '1989', 'end': '1995', 'ended': True}      JP   1988239   \n",
       "4         {'begin': '1982', 'ended': True, 'end': '1993'}      FR   2967650   \n",
       "...                                                   ...     ...       ...   \n",
       "927966                                                 []  Person   2083059   \n",
       "927967                                                 []   Group   4288469   \n",
       "927968                                                 []  Person   3205651   \n",
       "927969                                                 []  Person    366426   \n",
       "927970                                                 []     NaN   1937422   \n",
       "\n",
       "                     artist_name  \n",
       "0       Young American Primitive  \n",
       "1                      Minutemen  \n",
       "2                    Vital Signs  \n",
       "3                     J.D.K.BAND  \n",
       "4                        Niagara  \n",
       "...                          ...  \n",
       "927966                      Jess  \n",
       "927967            V.I.T.R.I.O.L.  \n",
       "927968              Peter Wright  \n",
       "927969                 Aned Mota  \n",
       "927970                   Impress  \n",
       "\n",
       "[927971 rows x 25 columns]"
      ]
     },
     "execution_count": 8,
     "metadata": {},
     "output_type": "execute_result"
    }
   ],
   "source": [
    "artists_df = pd.read_csv(scratch_directory + 'data/merged_artists.csv')\n",
    "artists_df.iloc[0]"
   ]
  },
  {
   "cell_type": "code",
   "execution_count": 11,
   "metadata": {},
   "outputs": [
    {
     "name": "stderr",
     "output_type": "stream",
     "text": [
      "b'Skipping line 1940: expected 3 fields, saw 4\\nSkipping line 1969: expected 3 fields, saw 4\\nSkipping line 3182: expected 3 fields, saw 4\\nSkipping line 3209: expected 3 fields, saw 4\\nSkipping line 3219: expected 3 fields, saw 4\\nSkipping line 4123: expected 3 fields, saw 4\\nSkipping line 4231: expected 3 fields, saw 4\\nSkipping line 4433: expected 3 fields, saw 4\\nSkipping line 5945: expected 3 fields, saw 4\\nSkipping line 6489: expected 3 fields, saw 4\\nSkipping line 8096: expected 3 fields, saw 4\\nSkipping line 10726: expected 3 fields, saw 4\\nSkipping line 11139: expected 3 fields, saw 4\\nSkipping line 15556: expected 3 fields, saw 4\\nSkipping line 15854: expected 3 fields, saw 4\\nSkipping line 18218: expected 3 fields, saw 4\\nSkipping line 22702: expected 3 fields, saw 4\\nSkipping line 23872: expected 3 fields, saw 4\\nSkipping line 23967: expected 3 fields, saw 4\\nSkipping line 25810: expected 3 fields, saw 4\\nSkipping line 28912: expected 3 fields, saw 4\\nSkipping line 29414: expected 3 fields, saw 4\\nSkipping line 32295: expected 3 fields, saw 4\\nSkipping line 32937: expected 3 fields, saw 4\\nSkipping line 39162: expected 3 fields, saw 4\\nSkipping line 39250: expected 3 fields, saw 4\\nSkipping line 39991: expected 3 fields, saw 4\\nSkipping line 43413: expected 3 fields, saw 4\\nSkipping line 46470: expected 3 fields, saw 4\\nSkipping line 50236: expected 3 fields, saw 4\\nSkipping line 50972: expected 3 fields, saw 4\\nSkipping line 52609: expected 3 fields, saw 4\\nSkipping line 54989: expected 3 fields, saw 4\\nSkipping line 57857: expected 3 fields, saw 4\\nSkipping line 57864: expected 3 fields, saw 4\\nSkipping line 59300: expected 3 fields, saw 4\\nSkipping line 59376: expected 3 fields, saw 4\\nSkipping line 60614: expected 3 fields, saw 4\\n'\n"
     ]
    }
   ],
   "source": [
    "names = ['listening-counts.tsv.bz2', 'users.tsv.bz2', 'tracks.tsv.bz2']\n",
    "\n",
    "# listening_counts_df = pd.read_csv(scratch_directory + f'data/LFM-2b/{names[0]}', compression='bz2', sep='\\t', error_bad_lines=False)\n",
    "users_df = pd.read_csv(scratch_directory + f'data/LFM-2b/{names[1]}', compression='bz2', sep='\\t', error_bad_lines=False)\n",
    "tracks_df = pd.read_csv(scratch_directory + f'data/LFM-2b/{names[2]}', compression='bz2', sep='\\t', error_bad_lines=False)"
   ]
  },
  {
   "cell_type": "code",
   "execution_count": 12,
   "metadata": {},
   "outputs": [
    {
     "data": {
      "text/html": [
       "<div>\n",
       "<style scoped>\n",
       "    .dataframe tbody tr th:only-of-type {\n",
       "        vertical-align: middle;\n",
       "    }\n",
       "\n",
       "    .dataframe tbody tr th {\n",
       "        vertical-align: top;\n",
       "    }\n",
       "\n",
       "    .dataframe thead th {\n",
       "        text-align: right;\n",
       "    }\n",
       "</style>\n",
       "<table border=\"1\" class=\"dataframe\">\n",
       "  <thead>\n",
       "    <tr style=\"text-align: right;\">\n",
       "      <th></th>\n",
       "      <th>user_id</th>\n",
       "      <th>country</th>\n",
       "      <th>age</th>\n",
       "      <th>gender</th>\n",
       "      <th>creation_time</th>\n",
       "    </tr>\n",
       "  </thead>\n",
       "  <tbody>\n",
       "    <tr>\n",
       "      <th>0</th>\n",
       "      <td>0</td>\n",
       "      <td>UK</td>\n",
       "      <td>31</td>\n",
       "      <td>m</td>\n",
       "      <td>2002-12-28 01:00:00</td>\n",
       "    </tr>\n",
       "    <tr>\n",
       "      <th>1</th>\n",
       "      <td>1</td>\n",
       "      <td>US</td>\n",
       "      <td>43</td>\n",
       "      <td>m</td>\n",
       "      <td>2003-04-15 02:00:00</td>\n",
       "    </tr>\n",
       "    <tr>\n",
       "      <th>2</th>\n",
       "      <td>2</td>\n",
       "      <td>UK</td>\n",
       "      <td>35</td>\n",
       "      <td>m</td>\n",
       "      <td>2002-10-29 01:00:00</td>\n",
       "    </tr>\n",
       "    <tr>\n",
       "      <th>3</th>\n",
       "      <td>3</td>\n",
       "      <td>BR</td>\n",
       "      <td>31</td>\n",
       "      <td>m</td>\n",
       "      <td>2003-07-20 02:00:00</td>\n",
       "    </tr>\n",
       "    <tr>\n",
       "      <th>4</th>\n",
       "      <td>4</td>\n",
       "      <td>NaN</td>\n",
       "      <td>51</td>\n",
       "      <td>m</td>\n",
       "      <td>2003-07-21 02:00:00</td>\n",
       "    </tr>\n",
       "  </tbody>\n",
       "</table>\n",
       "</div>"
      ],
      "text/plain": [
       "   user_id country  age gender        creation_time\n",
       "0        0      UK   31      m  2002-12-28 01:00:00\n",
       "1        1      US   43      m  2003-04-15 02:00:00\n",
       "2        2      UK   35      m  2002-10-29 01:00:00\n",
       "3        3      BR   31      m  2003-07-20 02:00:00\n",
       "4        4     NaN   51      m  2003-07-21 02:00:00"
      ]
     },
     "execution_count": 12,
     "metadata": {},
     "output_type": "execute_result"
    }
   ],
   "source": [
    "users_df.head()"
   ]
  },
  {
   "cell_type": "code",
   "execution_count": 13,
   "metadata": {},
   "outputs": [
    {
     "data": {
      "text/html": [
       "<div>\n",
       "<style scoped>\n",
       "    .dataframe tbody tr th:only-of-type {\n",
       "        vertical-align: middle;\n",
       "    }\n",
       "\n",
       "    .dataframe tbody tr th {\n",
       "        vertical-align: top;\n",
       "    }\n",
       "\n",
       "    .dataframe thead th {\n",
       "        text-align: right;\n",
       "    }\n",
       "</style>\n",
       "<table border=\"1\" class=\"dataframe\">\n",
       "  <thead>\n",
       "    <tr style=\"text-align: right;\">\n",
       "      <th></th>\n",
       "      <th>track_id</th>\n",
       "      <th>artist_name</th>\n",
       "      <th>track_name</th>\n",
       "    </tr>\n",
       "  </thead>\n",
       "  <tbody>\n",
       "    <tr>\n",
       "      <th>0</th>\n",
       "      <td>0</td>\n",
       "      <td>Mika Miko</td>\n",
       "      <td>NaN</td>\n",
       "    </tr>\n",
       "    <tr>\n",
       "      <th>1</th>\n",
       "      <td>1</td>\n",
       "      <td>Comm</td>\n",
       "      <td>\u0001</td>\n",
       "    </tr>\n",
       "    <tr>\n",
       "      <th>2</th>\n",
       "      <td>2</td>\n",
       "      <td>deadmau5</td>\n",
       "      <td>\u0001</td>\n",
       "    </tr>\n",
       "    <tr>\n",
       "      <th>3</th>\n",
       "      <td>3</td>\n",
       "      <td>Rasheed Chappell</td>\n",
       "      <td>\u0003</td>\n",
       "    </tr>\n",
       "    <tr>\n",
       "      <th>4</th>\n",
       "      <td>4</td>\n",
       "      <td>rck</td>\n",
       "      <td>\u0003</td>\n",
       "    </tr>\n",
       "  </tbody>\n",
       "</table>\n",
       "</div>"
      ],
      "text/plain": [
       "   track_id       artist_name track_name\n",
       "0         0         Mika Miko        NaN\n",
       "1         1              Comm          \u0001\n",
       "2         2          deadmau5          \u0001\n",
       "3         3  Rasheed Chappell          \u0003\n",
       "4         4               rck          \u0003"
      ]
     },
     "execution_count": 13,
     "metadata": {},
     "output_type": "execute_result"
    }
   ],
   "source": [
    "tracks_df.head()"
   ]
  },
  {
   "cell_type": "code",
   "execution_count": null,
   "metadata": {},
   "outputs": [],
   "source": [
    "https://github.com/CPJKU/recommendation_systems_fairness/tree/main"
   ]
  },
  {
   "cell_type": "code",
   "execution_count": 2,
   "metadata": {},
   "outputs": [
    {
     "data": {
      "text/html": [
       "<div>\n",
       "<style scoped>\n",
       "    .dataframe tbody tr th:only-of-type {\n",
       "        vertical-align: middle;\n",
       "    }\n",
       "\n",
       "    .dataframe tbody tr th {\n",
       "        vertical-align: top;\n",
       "    }\n",
       "\n",
       "    .dataframe thead th {\n",
       "        text-align: right;\n",
       "    }\n",
       "</style>\n",
       "<table border=\"1\" class=\"dataframe\">\n",
       "  <thead>\n",
       "    <tr style=\"text-align: right;\">\n",
       "      <th></th>\n",
       "      <th>user_id</th>\n",
       "      <th>user_country</th>\n",
       "      <th>user_gender</th>\n",
       "      <th>user_age</th>\n",
       "    </tr>\n",
       "  </thead>\n",
       "  <tbody>\n",
       "    <tr>\n",
       "      <th>0</th>\n",
       "      <td>806</td>\n",
       "      <td>CA</td>\n",
       "      <td>m</td>\n",
       "      <td>26.5</td>\n",
       "    </tr>\n",
       "    <tr>\n",
       "      <th>1</th>\n",
       "      <td>25797</td>\n",
       "      <td>BR</td>\n",
       "      <td>m</td>\n",
       "      <td>25.0</td>\n",
       "    </tr>\n",
       "    <tr>\n",
       "      <th>2</th>\n",
       "      <td>8052</td>\n",
       "      <td>NL</td>\n",
       "      <td>m</td>\n",
       "      <td>26.0</td>\n",
       "    </tr>\n",
       "    <tr>\n",
       "      <th>3</th>\n",
       "      <td>5989</td>\n",
       "      <td>AU</td>\n",
       "      <td>m</td>\n",
       "      <td>28.0</td>\n",
       "    </tr>\n",
       "    <tr>\n",
       "      <th>4</th>\n",
       "      <td>40114</td>\n",
       "      <td>US</td>\n",
       "      <td>f</td>\n",
       "      <td>24.0</td>\n",
       "    </tr>\n",
       "  </tbody>\n",
       "</table>\n",
       "</div>"
      ],
      "text/plain": [
       "   user_id user_country user_gender  user_age\n",
       "0      806           CA           m      26.5\n",
       "1    25797           BR           m      25.0\n",
       "2     8052           NL           m      26.0\n",
       "3     5989           AU           m      28.0\n",
       "4    40114           US           f      24.0"
      ]
     },
     "execution_count": 2,
     "metadata": {},
     "output_type": "execute_result"
    }
   ],
   "source": [
    "# sample n users\n",
    "\n",
    "import pandas as pd\n",
    "import os\n",
    "\n",
    "scratch_directory = os.environ.get('SCRATCH') + '/'\n",
    "dataset_dir = 'data/LFM_2b_seperated_final'\n",
    "\n",
    "users_df = pd.read_csv(scratch_directory + f'{dataset_dir}/user_demographics.csv')\n",
    "users_df.head()"
   ]
  },
  {
   "cell_type": "code",
   "execution_count": 55,
   "metadata": {},
   "outputs": [
    {
     "data": {
      "text/plain": [
       "<Axes: xlabel='user_country'>"
      ]
     },
     "execution_count": 55,
     "metadata": {},
     "output_type": "execute_result"
    },
    {
     "data": {
      "image/png": "[encoded data removed]",
      "text/plain": [
       "<Figure size 2000x1000 with 1 Axes>"
      ]
     },
     "metadata": {},
     "output_type": "display_data"
    }
   ],
   "source": [
    "# count number of users with user_country==US\n",
    "import matplotlib.pyplot as plt\n",
    "plt.figure(figsize=(20,10)) # plot bar\n",
    "\n",
    "users_df['user_country'].value_counts()[:30].plot(kind='bar')"
   ]
  },
  {
   "cell_type": "markdown",
   "metadata": {},
   "source": [
    "# the first top 5 countries = 52% of the whole user base!\n",
    "# we have 207 countries!\n",
    "\n",
    "# number of distinct user_country\n",
    "len(users_df['user_country'].unique())"
   ]
  },
  {
   "cell_type": "code",
   "execution_count": 23,
   "metadata": {},
   "outputs": [
    {
     "data": {
      "text/plain": [
       "194"
      ]
     },
     "execution_count": 23,
     "metadata": {},
     "output_type": "execute_result"
    }
   ],
   "source": [
    "(users_df['user_country'].value_counts() < 1000).sum() # there are 194 countries with less than 1000 users"
   ]
  },
  {
   "cell_type": "code",
   "execution_count": 24,
   "metadata": {},
   "outputs": [
    {
     "data": {
      "text/plain": [
       "160"
      ]
     },
     "execution_count": 24,
     "metadata": {},
     "output_type": "execute_result"
    }
   ],
   "source": [
    "(users_df['user_country'].value_counts() < 100).sum() # there are 160 countries with less than 100 users"
   ]
  },
  {
   "cell_type": "code",
   "execution_count": 26,
   "metadata": {},
   "outputs": [
    {
     "data": {
      "text/plain": [
       "134"
      ]
     },
     "execution_count": 26,
     "metadata": {},
     "output_type": "execute_result"
    }
   ],
   "source": [
    "(users_df['user_country'].value_counts() < 20).sum() # there are 134 countries with less than 100 users"
   ]
  },
  {
   "cell_type": "code",
   "execution_count": 32,
   "metadata": {},
   "outputs": [
    {
     "data": {
      "text/plain": [
       "109"
      ]
     },
     "execution_count": 32,
     "metadata": {},
     "output_type": "execute_result"
    }
   ],
   "source": [
    "(users_df['user_country'].value_counts() < 10).sum() # there are 109 countries with less than 5 users"
   ]
  },
  {
   "cell_type": "code",
   "execution_count": 31,
   "metadata": {},
   "outputs": [
    {
     "data": {
      "text/plain": [
       "80"
      ]
     },
     "execution_count": 31,
     "metadata": {},
     "output_type": "execute_result"
    }
   ],
   "source": [
    "(users_df['user_country'].value_counts() < 5).sum() # there are 80 countries with less than 5 users"
   ]
  },
  {
   "cell_type": "code",
   "execution_count": 14,
   "metadata": {},
   "outputs": [
    {
     "data": {
      "text/plain": [
       "0.5209448931711947"
      ]
     },
     "execution_count": 14,
     "metadata": {},
     "output_type": "execute_result"
    }
   ],
   "source": [
    "sum(users_df['user_country'].value_counts()[:5])/len(users_df)"
   ]
  },
  {
   "cell_type": "code",
   "execution_count": 36,
   "metadata": {},
   "outputs": [
    {
     "data": {
      "text/plain": [
       "37.072192273940225"
      ]
     },
     "execution_count": 36,
     "metadata": {},
     "output_type": "execute_result"
    }
   ],
   "source": [
    "10000 / (sum(users_df['user_country'].value_counts())/len(users_df['user_country'].unique())) # we need 40 country samples in order to have 10k users"
   ]
  },
  {
   "cell_type": "code",
   "execution_count": 72,
   "metadata": {},
   "outputs": [
    {
     "data": {
      "text/plain": [
       "9943"
      ]
     },
     "execution_count": 72,
     "metadata": {},
     "output_type": "execute_result"
    }
   ],
   "source": [
    "# sample 40 countries\n",
    "\n",
    "import random\n",
    "random.seed(58)\n",
    "\n",
    "countries = users_df['user_country'].unique()\n",
    "sampled_countries = random.sample(list(countries), 40)\n",
    "sampled_users_df = users_df[users_df['user_country'].isin(sampled_countries)]\n",
    "\n",
    "len(sampled_users_df)\n"
   ]
  },
  {
   "cell_type": "code",
   "execution_count": 75,
   "metadata": {},
   "outputs": [
    {
     "data": {
      "text/html": [
       "<div>\n",
       "<style scoped>\n",
       "    .dataframe tbody tr th:only-of-type {\n",
       "        vertical-align: middle;\n",
       "    }\n",
       "\n",
       "    .dataframe tbody tr th {\n",
       "        vertical-align: top;\n",
       "    }\n",
       "\n",
       "    .dataframe thead th {\n",
       "        text-align: right;\n",
       "    }\n",
       "</style>\n",
       "<table border=\"1\" class=\"dataframe\">\n",
       "  <thead>\n",
       "    <tr style=\"text-align: right;\">\n",
       "      <th></th>\n",
       "      <th>user_id</th>\n",
       "      <th>track_id</th>\n",
       "      <th>count</th>\n",
       "    </tr>\n",
       "  </thead>\n",
       "  <tbody>\n",
       "    <tr>\n",
       "      <th>0</th>\n",
       "      <td>806</td>\n",
       "      <td>3403100</td>\n",
       "      <td>4</td>\n",
       "    </tr>\n",
       "    <tr>\n",
       "      <th>1</th>\n",
       "      <td>806</td>\n",
       "      <td>4343295</td>\n",
       "      <td>3</td>\n",
       "    </tr>\n",
       "    <tr>\n",
       "      <th>2</th>\n",
       "      <td>806</td>\n",
       "      <td>7223957</td>\n",
       "      <td>1</td>\n",
       "    </tr>\n",
       "    <tr>\n",
       "      <th>3</th>\n",
       "      <td>806</td>\n",
       "      <td>24174556</td>\n",
       "      <td>1</td>\n",
       "    </tr>\n",
       "    <tr>\n",
       "      <th>4</th>\n",
       "      <td>806</td>\n",
       "      <td>25194146</td>\n",
       "      <td>1</td>\n",
       "    </tr>\n",
       "  </tbody>\n",
       "</table>\n",
       "</div>"
      ],
      "text/plain": [
       "   user_id  track_id  count\n",
       "0      806   3403100      4\n",
       "1      806   4343295      3\n",
       "2      806   7223957      1\n",
       "3      806  24174556      1\n",
       "4      806  25194146      1"
      ]
     },
     "execution_count": 75,
     "metadata": {},
     "output_type": "execute_result"
    }
   ],
   "source": [
    "interactions = pd.read_csv(scratch_directory + f'{dataset_dir}/interactions.csv')\n",
    "interactions.head()"
   ]
  },
  {
   "cell_type": "code",
   "execution_count": 77,
   "metadata": {},
   "outputs": [
    {
     "name": "stdout",
     "output_type": "stream",
     "text": [
      "9824\n"
     ]
    }
   ],
   "source": [
    "# sample 10000 users from interactions (match on user_id)\n",
    "\n",
    "import random\n",
    "\n",
    "sampled_users = sampled_users_df['user_id'].unique()\n",
    "print(len(sampled_users))\n",
    "sampled_interactions = interactions[interactions['user_id'].isin(sampled_users)]"
   ]
  },
  {
   "cell_type": "code",
   "execution_count": 78,
   "metadata": {},
   "outputs": [
    {
     "data": {
      "text/plain": [
       "10520266"
      ]
     },
     "execution_count": 78,
     "metadata": {},
     "output_type": "execute_result"
    }
   ],
   "source": [
    "len(sampled_interactions)"
   ]
  },
  {
   "cell_type": "code",
   "execution_count": 79,
   "metadata": {},
   "outputs": [],
   "source": [
    "# save sampled users and interactions\n",
    "\n",
    "sampled_users_df.to_csv(scratch_directory + f'{dataset_dir}/10k_sampled_users.csv', index=False)\n",
    "sampled_interactions.to_csv(scratch_directory + f'{dataset_dir}/10k_sampled_interactions.csv', index=False)"
   ]
  },
  {
   "cell_type": "code",
   "execution_count": null,
   "metadata": {},
   "outputs": [],
   "source": []
  }
 ],
 "metadata": {
  "kernelspec": {
   "display_name": "base",
   "language": "python",
   "name": "python3"
  },
  "language_info": {
   "codemirror_mode": {
    "name": "ipython",
    "version": 3
   },
   "file_extension": ".py",
   "mimetype": "text/x-python",
   "name": "python",
   "nbconvert_exporter": "python",
   "pygments_lexer": "ipython3",
   "version": "3.9.18"
  },
  "orig_nbformat": 4
 },
 "nbformat": 4,
 "nbformat_minor": 2
}
