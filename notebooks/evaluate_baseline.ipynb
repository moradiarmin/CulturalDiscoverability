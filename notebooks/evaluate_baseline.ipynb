{
 "cells": [
  {
   "cell_type": "code",
   "execution_count": 4,
   "metadata": {},
   "outputs": [],
   "source": [
    "import numpy as np\n",
    "import pandas as pd\n",
    "import os \n",
    "import torch\n",
    "from torch.utils.data import DataLoader, TensorDataset\n",
    "import torch.nn as nn\n",
    "import torch.optim as optim\n",
    "from tqdm import tqdm\n",
    "from sklearn.preprocessing import OneHotEncoder\n",
    "import argparse\n",
    "import wandb\n",
    "import time\n"
   ]
  },
  {
   "cell_type": "code",
   "execution_count": 3,
   "metadata": {},
   "outputs": [],
   "source": [
    "class NeuralCollaborativeFiltering(nn.Module):\n",
    "    def __init__(self, num_users, num_tracks, user_country_dim, artist_country_dim, hidden_size=[256, 128, 64]):\n",
    "        super(NeuralCollaborativeFiltering, self).__init__()\n",
    "\n",
    "        self.embedding_size = 16\n",
    "\n",
    "        self.user_id_embedding = nn.Embedding(num_users, self.embedding_size)\n",
    "        self.track_id_embedding = nn.Embedding(num_tracks, self.embedding_size)\n",
    "\n",
    "        # self.user_country_embedding = nn.Embedding(user_country_dim, self.embedding_size)\n",
    "        # self.artist_country_embedding = nn.Embedding(artist_country_dim, self.embedding_size)\n",
    "\n",
    "        self.fc_layers = nn.Sequential(\n",
    "            nn.Linear(self.embedding_size * 2 + user_country_dim + artist_country_dim, hidden_size[0]),\n",
    "            nn.ReLU(),\n",
    "            nn.Linear(hidden_size[0], hidden_size[1]),\n",
    "            nn.ReLU(),\n",
    "            nn.Linear(hidden_size[1], hidden_size[2]),\n",
    "            nn.ReLU(),\n",
    "            nn.Linear(hidden_size[2], 1),\n",
    "        )\n",
    "\n",
    "    def forward(self, user_id, artist_id, user_country, artist_country):\n",
    "\n",
    "        user_id_embeds = self.user_id_embedding(user_id)\n",
    "        artist_id_embeds = self.track_id_embedding(artist_id)\n",
    "        \n",
    "        # user_country_embeds = self.user_country_embedding(user_country)\n",
    "        # artist_country_embeds = self.artist_country_embedding(artist_country)\n",
    "\n",
    "        concatenated = torch.cat([user_id_embeds, artist_id_embeds, user_country, artist_country], dim=1)\n",
    "        output = self.fc_layers(concatenated.float())\n",
    "\n",
    "        return output.squeeze()"
   ]
  },
  {
   "cell_type": "code",
   "execution_count": 8,
   "metadata": {},
   "outputs": [
    {
     "name": "stdout",
     "output_type": "stream",
     "text": [
      "Loaded Data interactions: 10520266 users 9856 items 6321172\n",
      "--------------------------------------------------\n",
      "DF FINAL - n rows: 281809\n",
      "--------------------------------------------------\n"
     ]
    },
    {
     "name": "stderr",
     "output_type": "stream",
     "text": [
      "/home/mila/a/armin.moradi/.conda/envs/crs_env/lib/python3.9/site-packages/sklearn/preprocessing/_encoders.py:975: FutureWarning: `sparse` was renamed to `sparse_output` in version 1.2 and will be removed in 1.4. `sparse_output` is ignored unless you leave `sparse` to its default value.\n",
      "  warnings.warn(\n"
     ]
    }
   ],
   "source": [
    "DATASET_PATH = '/home/mila/a/armin.moradi/scratch/data/LFM_2b_seperated_final/'\n",
    "interactions = pd.read_csv(os.path.join(DATASET_PATH, '10k_sampled_interactions.csv'))\n",
    "user_demographics = pd.read_csv(os.path.join(DATASET_PATH, '10k_sampled_users.csv'))\n",
    "item_demographics = pd.read_csv(os.path.join(DATASET_PATH, 'item_demographics.csv'))\n",
    "\n",
    "print('Loaded Data', 'interactions:', len(interactions), 'users', len(user_demographics), 'items', len(item_demographics))\n",
    "print('-'*50)\n",
    "\n",
    "# reindex IDs\n",
    "user_demographics['new_user_id'] = user_demographics.index\n",
    "user_demographics = user_demographics.sample(n=250, random_state=99) # TODO: CHANGE TO COMPLETE\n",
    "df_final = interactions.merge(user_demographics, on='user_id', how='inner')\n",
    "\n",
    "item_demographics['new_track_id'] = item_demographics.index\n",
    "item_demographics = item_demographics[item_demographics['track_id'].isin(interactions['track_id'])]\n",
    "item_demographics = item_demographics.sample(frac=1, random_state=99) #TODO: CHANGE TO COMPLETE\n",
    "\n",
    "df_final = df_final.merge(item_demographics, on='track_id', how='inner')\n",
    "\n",
    "print('DF FINAL - n rows:', len(df_final))\n",
    "print('-'*50)\n",
    "\n",
    "# preprocessing\n",
    "\n",
    "labels = ['0-18', '18-30', '30-50', '50+']\n",
    "bins = [0, 18, 30, 50, 100]\n",
    "df_final['user_age'] = pd.cut(df_final['user_age'], bins=bins, labels=labels, right=False)\n",
    "\n",
    "# replace user id with new_user_id and delete user_id\n",
    "df_final = df_final.drop(columns=['user_id'])\n",
    "df_final = df_final.rename(columns={'new_user_id':'user_id'})\n",
    "\n",
    "# replace user id with new_user_id and delete user_id\n",
    "df_final = df_final.drop(columns=['track_id'])\n",
    "df_final = df_final.rename(columns={'new_track_id':'track_id'})\n",
    "\n",
    "cols = df_final.columns.tolist()\n",
    "cols = [cols[-1], cols[3]] + cols[0:3] + cols[4:-1]\n",
    "df_final = df_final[cols]\n",
    "\n",
    "y = df_final['count']\n",
    "x = df_final.drop(['count'], axis=1)\n",
    "encoder = OneHotEncoder(sparse=False)\n",
    "columns_to_encode = x.columns[2:]\n",
    "encoder.fit(x[columns_to_encode])\n",
    "encoded_x = encoder.transform(x[columns_to_encode])\n",
    "encoded_x = pd.DataFrame(encoded_x, columns=encoder.get_feature_names_out(columns_to_encode))\n",
    "x = pd.concat([x[['user_id', 'track_id']], encoded_x], axis=1)\n",
    "\n",
    "user_country_indices = [i for i, col in enumerate(x.columns) if col.startswith('user_country_')]\n",
    "artist_country_indices = [i for i, col in enumerate(x.columns) if col.startswith('artist_country_')]\n",
    "user_gender_indices = [i for i, col in enumerate(x.columns) if col.startswith('user_gender_')]\n",
    "artist_gender_indices = [i for i, col in enumerate(x.columns) if col.startswith('artist_gender')]\n",
    "user_age_indices = [i for i, col in enumerate(x.columns) if col.startswith('user_age_')]\n",
    "unique_user_ids, unique_track_ids = max(x['user_id']) + 1, max(x['track_id']) + 1\n",
    "\n",
    "device = torch.device('cuda' if torch.cuda.is_available() else 'cpu')"
   ]
  },
  {
   "cell_type": "code",
   "execution_count": 9,
   "metadata": {},
   "outputs": [
    {
     "data": {
      "text/plain": [
       "<All keys matched successfully>"
      ]
     },
     "execution_count": 9,
     "metadata": {},
     "output_type": "execute_result"
    }
   ],
   "source": [
    "# read torch model from address below\n",
    "\n",
    "model = NeuralCollaborativeFiltering(num_users=unique_user_ids, num_tracks=unique_track_ids,\n",
    "                                    user_country_dim=len(user_country_indices),\n",
    "                                    artist_country_dim=len(artist_country_indices),\n",
    "                                    hidden_size=[256, 128, 64]).to(device)\n",
    "\n",
    "model.load_state_dict(torch.load('/home/mila/a/armin.moradi/CulturalDiscoverability/results/model_outputs_4060755/model_weights.pth', map_location=torch.device('cpu')))"
   ]
  },
  {
   "cell_type": "code",
   "execution_count": null,
   "metadata": {},
   "outputs": [],
   "source": [
    "model.eval()\n",
    "\n"
   ]
  },
  {
   "cell_type": "markdown",
   "metadata": {},
   "source": [
    "# the two papers (demographic info helps?, globalization?)\n",
    "\n",
    "# embedding of ids of different people\n",
    "# also learning a model w/o the demog"
   ]
  },
  {
   "cell_type": "code",
   "execution_count": 96,
   "metadata": {},
   "outputs": [
    {
     "name": "stdout",
     "output_type": "stream",
     "text": [
      "torch.Size([0]) torch.Size([0]) torch.Size([1]) torch.Size([1])\n"
     ]
    },
    {
     "ename": "RuntimeError",
     "evalue": "Tensors must have same number of dimensions: got 2 and 1",
     "output_type": "error",
     "traceback": [
      "\u001b[0;31m---------------------------------------------------------------------------\u001b[0m",
      "\u001b[0;31mRuntimeError\u001b[0m                              Traceback (most recent call last)",
      "Cell \u001b[0;32mIn[96], line 15\u001b[0m\n\u001b[1;32m     13\u001b[0m     \u001b[38;5;28;01mreturn\u001b[39;00m user_id, artist_id, user_country_tensor, artist_country_tensor\n\u001b[1;32m     14\u001b[0m \u001b[38;5;66;03m# gr ca\u001b[39;00m\n\u001b[0;32m---> 15\u001b[0m \u001b[43mloaded_model\u001b[49m\u001b[43m(\u001b[49m\u001b[38;5;241;43m*\u001b[39;49m\u001b[43mpredict\u001b[49m\u001b[43m(\u001b[49m\u001b[38;5;241;43m0\u001b[39;49m\u001b[43m,\u001b[49m\u001b[43m \u001b[49m\u001b[38;5;241;43m0\u001b[39;49m\u001b[43m,\u001b[49m\u001b[43m \u001b[49m\u001b[38;5;124;43m'\u001b[39;49m\u001b[38;5;124;43mGR\u001b[39;49m\u001b[38;5;124;43m'\u001b[39;49m\u001b[43m,\u001b[49m\u001b[43m \u001b[49m\u001b[38;5;124;43m'\u001b[39;49m\u001b[38;5;124;43mCA\u001b[39;49m\u001b[38;5;124;43m'\u001b[39;49m\u001b[43m)\u001b[49m\u001b[43m)\u001b[49m\n",
      "File \u001b[0;32m~/.conda/envs/crs_env/lib/python3.9/site-packages/torch/nn/modules/module.py:1518\u001b[0m, in \u001b[0;36mModule._wrapped_call_impl\u001b[0;34m(self, *args, **kwargs)\u001b[0m\n\u001b[1;32m   1516\u001b[0m     \u001b[38;5;28;01mreturn\u001b[39;00m \u001b[38;5;28mself\u001b[39m\u001b[38;5;241m.\u001b[39m_compiled_call_impl(\u001b[38;5;241m*\u001b[39margs, \u001b[38;5;241m*\u001b[39m\u001b[38;5;241m*\u001b[39mkwargs)  \u001b[38;5;66;03m# type: ignore[misc]\u001b[39;00m\n\u001b[1;32m   1517\u001b[0m \u001b[38;5;28;01melse\u001b[39;00m:\n\u001b[0;32m-> 1518\u001b[0m     \u001b[38;5;28;01mreturn\u001b[39;00m \u001b[38;5;28;43mself\u001b[39;49m\u001b[38;5;241;43m.\u001b[39;49m\u001b[43m_call_impl\u001b[49m\u001b[43m(\u001b[49m\u001b[38;5;241;43m*\u001b[39;49m\u001b[43margs\u001b[49m\u001b[43m,\u001b[49m\u001b[43m \u001b[49m\u001b[38;5;241;43m*\u001b[39;49m\u001b[38;5;241;43m*\u001b[39;49m\u001b[43mkwargs\u001b[49m\u001b[43m)\u001b[49m\n",
      "File \u001b[0;32m~/.conda/envs/crs_env/lib/python3.9/site-packages/torch/nn/modules/module.py:1527\u001b[0m, in \u001b[0;36mModule._call_impl\u001b[0;34m(self, *args, **kwargs)\u001b[0m\n\u001b[1;32m   1522\u001b[0m \u001b[38;5;66;03m# If we don't have any hooks, we want to skip the rest of the logic in\u001b[39;00m\n\u001b[1;32m   1523\u001b[0m \u001b[38;5;66;03m# this function, and just call forward.\u001b[39;00m\n\u001b[1;32m   1524\u001b[0m \u001b[38;5;28;01mif\u001b[39;00m \u001b[38;5;129;01mnot\u001b[39;00m (\u001b[38;5;28mself\u001b[39m\u001b[38;5;241m.\u001b[39m_backward_hooks \u001b[38;5;129;01mor\u001b[39;00m \u001b[38;5;28mself\u001b[39m\u001b[38;5;241m.\u001b[39m_backward_pre_hooks \u001b[38;5;129;01mor\u001b[39;00m \u001b[38;5;28mself\u001b[39m\u001b[38;5;241m.\u001b[39m_forward_hooks \u001b[38;5;129;01mor\u001b[39;00m \u001b[38;5;28mself\u001b[39m\u001b[38;5;241m.\u001b[39m_forward_pre_hooks\n\u001b[1;32m   1525\u001b[0m         \u001b[38;5;129;01mor\u001b[39;00m _global_backward_pre_hooks \u001b[38;5;129;01mor\u001b[39;00m _global_backward_hooks\n\u001b[1;32m   1526\u001b[0m         \u001b[38;5;129;01mor\u001b[39;00m _global_forward_hooks \u001b[38;5;129;01mor\u001b[39;00m _global_forward_pre_hooks):\n\u001b[0;32m-> 1527\u001b[0m     \u001b[38;5;28;01mreturn\u001b[39;00m \u001b[43mforward_call\u001b[49m\u001b[43m(\u001b[49m\u001b[38;5;241;43m*\u001b[39;49m\u001b[43margs\u001b[49m\u001b[43m,\u001b[49m\u001b[43m \u001b[49m\u001b[38;5;241;43m*\u001b[39;49m\u001b[38;5;241;43m*\u001b[39;49m\u001b[43mkwargs\u001b[49m\u001b[43m)\u001b[49m\n\u001b[1;32m   1529\u001b[0m \u001b[38;5;28;01mtry\u001b[39;00m:\n\u001b[1;32m   1530\u001b[0m     result \u001b[38;5;241m=\u001b[39m \u001b[38;5;28;01mNone\u001b[39;00m\n",
      "Cell \u001b[0;32mIn[19], line 36\u001b[0m, in \u001b[0;36mNeuralCollaborativeFiltering.forward\u001b[0;34m(self, user_id, artist_id, user_country, artist_country)\u001b[0m\n\u001b[1;32m     31\u001b[0m artist_id_embeds \u001b[38;5;241m=\u001b[39m \u001b[38;5;28mself\u001b[39m\u001b[38;5;241m.\u001b[39mtrack_id_embedding(artist_id)\n\u001b[1;32m     33\u001b[0m \u001b[38;5;66;03m# user_country_embeds = self.user_country_embedding(user_country)\u001b[39;00m\n\u001b[1;32m     34\u001b[0m \u001b[38;5;66;03m# artist_country_embeds = self.artist_country_embedding(artist_country)\u001b[39;00m\n\u001b[0;32m---> 36\u001b[0m concatenated \u001b[38;5;241m=\u001b[39m \u001b[43mtorch\u001b[49m\u001b[38;5;241;43m.\u001b[39;49m\u001b[43mcat\u001b[49m\u001b[43m(\u001b[49m\u001b[43m[\u001b[49m\u001b[43muser_id_embeds\u001b[49m\u001b[43m,\u001b[49m\u001b[43m \u001b[49m\u001b[43martist_id_embeds\u001b[49m\u001b[43m,\u001b[49m\u001b[43m \u001b[49m\u001b[43muser_country\u001b[49m\u001b[43m,\u001b[49m\u001b[43m \u001b[49m\u001b[43martist_country\u001b[49m\u001b[43m]\u001b[49m\u001b[43m,\u001b[49m\u001b[43m \u001b[49m\u001b[43mdim\u001b[49m\u001b[38;5;241;43m=\u001b[39;49m\u001b[38;5;241;43m1\u001b[39;49m\u001b[43m)\u001b[49m\n\u001b[1;32m     38\u001b[0m output \u001b[38;5;241m=\u001b[39m \u001b[38;5;28mself\u001b[39m\u001b[38;5;241m.\u001b[39mfc_layers(concatenated\u001b[38;5;241m.\u001b[39mfloat())\n\u001b[1;32m     40\u001b[0m \u001b[38;5;28;01mreturn\u001b[39;00m output\u001b[38;5;241m.\u001b[39msqueeze()\n",
      "\u001b[0;31mRuntimeError\u001b[0m: Tensors must have same number of dimensions: got 2 and 1"
     ]
    }
   ],
   "source": [
    "def predict(user_id, artist_id, user_country, artist_country): # move this into the class of model later\n",
    "\n",
    "    user_id = torch.Tensor(user_id).long()\n",
    "    artist_id = torch.Tensor(artist_id).long()\n",
    "\n",
    "    user_country_idx = x.columns.get_loc('user_country_' + user_country)\n",
    "    artist_country_idx = x.columns.get_loc('artist_country_' + artist_country)\n",
    "    \n",
    "    user_country_tensor = torch.tensor(user_country_idx).unsqueeze(0)\n",
    "    artist_country_tensor = torch.tensor(artist_country_idx).unsqueeze(0)\n",
    "    \n",
    "    print(user_id.shape, artist_id.shape, user_country_tensor.shape, artist_country_tensor.shape)\n",
    "    return user_id, artist_id, user_country_tensor, artist_country_tensor\n",
    "# gr ca\n",
    "loaded_model(*predict(0, 0, 'GR', 'CA'))"
   ]
  },
  {
   "cell_type": "code",
   "execution_count": null,
   "metadata": {},
   "outputs": [],
   "source": [
    "model_path = 'results/NCF.pth'\n",
    "torch.save(model, model_path)\n",
    "\n",
    "loaded_model = torch.load(model_path)\n",
    "model_weights = loaded_model.state_dict()"
   ]
  },
  {
   "cell_type": "code",
   "execution_count": null,
   "metadata": {},
   "outputs": [
    {
     "data": {
      "text/plain": [
       "odict_keys(['user_country_embedding.weight', 'artist_country_embedding.weight', 'fc_layers.0.weight', 'fc_layers.0.bias', 'fc_layers.2.weight', 'fc_layers.2.bias', 'fc_layers.4.weight', 'fc_layers.4.bias', 'fc_layers.6.weight', 'fc_layers.6.bias'])"
      ]
     },
     "execution_count": 135,
     "metadata": {},
     "output_type": "execute_result"
    }
   ],
   "source": [
    "model_weights.keys()"
   ]
  },
  {
   "cell_type": "code",
   "execution_count": null,
   "metadata": {},
   "outputs": [
    {
     "data": {
      "text/plain": [
       "(19, 15)"
      ]
     },
     "execution_count": 142,
     "metadata": {},
     "output_type": "execute_result"
    }
   ],
   "source": [
    "user_country_embeds.shape"
   ]
  },
  {
   "cell_type": "code",
   "execution_count": null,
   "metadata": {},
   "outputs": [
    {
     "name": "stdout",
     "output_type": "stream",
     "text": [
      "(19, 15) (98, 15)\n"
     ]
    },
    {
     "data": {
      "image/png": "[encoded data removed]",
      "text/plain": [
       "<Figure size 2000x2000 with 1 Axes>"
      ]
     },
     "metadata": {},
     "output_type": "display_data"
    }
   ],
   "source": [
    "import matplotlib.pyplot as plt\n",
    "from sklearn.manifold import TSNE\n",
    "\n",
    "user_country_embeds = model_weights['user_country_embedding.weight'].numpy()\n",
    "artist_country_embeds = model_weights['artist_country_embedding.weight'].numpy()\n",
    "\n",
    "# user_country_embeds = TSNE(n_components=2).fit_transform(user_country_embeds)\n",
    "# artist_country_embeds = TSNE(n_components=2).fit_transform(artist_country_embeds)\n",
    "\n",
    "print(user_country_embeds.shape, artist_country_embeds.shape)\n",
    "plt.figure(figsize=(20, 20))\n",
    "\n",
    "plt.scatter(user_country_embeds[:, 0], user_country_embeds[:, 1])\n",
    "plt.scatter(artist_country_embeds[:, 0], artist_country_embeds[:, 1])\n",
    "plt.show()"
   ]
  },
  {
   "cell_type": "code",
   "execution_count": null,
   "metadata": {},
   "outputs": [],
   "source": [
    "from sklearn.preprocessing import OneHotEncoder, MinMaxScaler\n",
    "\n",
    "encoder = OneHotEncoder(sparse=False)\n",
    "\n",
    "y = df_final_grouped['count']\n",
    "y = np.log(y+1e-30)\n",
    "\n",
    "x = df_final_grouped.drop(['count', 'user_gender', 'user_age', 'artist_gender'], axis=1)\n",
    "print(x.shape, y.shape)\n",
    "\n",
    "columns_to_encode = x.columns\n",
    "encoder = OneHotEncoder(sparse=False)\n",
    "encoder.fit(x[columns_to_encode])\n",
    "encoded_x = encoder.transform(x[columns_to_encode])\n",
    "encoded_x = pd.DataFrame(encoded_x, columns=encoder.get_feature_names_out(columns_to_encode))\n",
    "final_df = encoded_x\n",
    "final_df.iloc[0]\n",
    "\n",
    "import torch\n",
    "import torch.nn as nn\n",
    "\n",
    "class RegressionModel(nn.Module):\n",
    "    def __init__(self, input_size, hidden_sizes, output_size):\n",
    "        super(RegressionModel, self).__init__()\n",
    "        \n",
    "        layers = []\n",
    "        sizes = [input_size] + hidden_sizes + [output_size]\n",
    "        \n",
    "        for i in range(len(sizes) - 1):\n",
    "            layers.append(nn.Linear(sizes[i], sizes[i+1]))\n",
    "            layers.append(nn.ReLU())\n",
    "        \n",
    "        self.model = nn.Sequential(*layers)\n",
    "    \n",
    "    def forward(self, x):\n",
    "        return self.model(x)\n",
    "\n",
    "\n",
    "import torch\n",
    "from torch.utils.data import DataLoader, TensorDataset\n",
    "\n",
    "x_tensor = torch.tensor(final_df.values)\n",
    "y_tensor = torch.tensor(y)\n",
    "dataset = TensorDataset(x_tensor, y_tensor)\n",
    "\n",
    "batch_size = 128\n",
    "dataloader = DataLoader(TensorDataset(x_tensor, y_tensor), batch_size=batch_size, shuffle=True)\n",
    "\n",
    "unique_values = torch.unique(y_tensor) \n",
    "a = torch.unique(y_tensor, return_counts=True)\n",
    "a[1][0] / len(y_tensor)\n",
    "\n",
    "import torch.optim as optim\n",
    "from tqdm import tqdm\n",
    "\n",
    "\n",
    "model = RegressionModel(len(final_df.columns), [4, 4, 8, 16, 4], 1)\n",
    "\n",
    "mean = 10\n",
    "variance = 1\n",
    "\n",
    "for param in model.parameters():\n",
    "    torch.nn.init.normal_(param, mean=mean, std=variance)\n",
    "\n",
    "criterion = nn.MSELoss()\n",
    "optimizer = optim.SGD(model.parameters(), lr=0.01)\n",
    "\n",
    "num_epochs = 10\n",
    "loss_values = []\n",
    "\n",
    "for epoch in tqdm(range(num_epochs), desc='Epochs'):\n",
    "    total_loss = 0.0\n",
    "    for x, y in dataloader:\n",
    "        optimizer.zero_grad()\n",
    "        outputs = model(x.float()) #, user_gender, artist_gender, user_age)\n",
    "        y = torch.zeros_like(outputs)\n",
    "        loss = criterion(outputs.float(), y)\n",
    "        loss.backward()\n",
    "        optimizer.step()\n",
    "        \n",
    "        total_loss += loss.item()\n",
    "        loss_values.append(loss.item())\n",
    "    print(f'Epoch {epoch + 1}/{num_epochs}, Loss: {total_loss / len(dataloader)}')\n",
    "\n",
    "import torch\n",
    "\n",
    "input_row = pd.DataFrame({'user_country': ['US'], 'artist_country': ['US']})\n",
    "input_row = encoder.transform(input_row)\n",
    "input_tensor = torch.tensor(input_row).unsqueeze(0)\n",
    "output = model(input_tensor.float())\n",
    "\n",
    "print(output.item())"
   ]
  }
 ],
 "metadata": {
  "kernelspec": {
   "display_name": "Python 3",
   "language": "python",
   "name": "python3"
  },
  "language_info": {
   "codemirror_mode": {
    "name": "ipython",
    "version": 3
   },
   "file_extension": ".py",
   "mimetype": "text/x-python",
   "name": "python",
   "nbconvert_exporter": "python",
   "pygments_lexer": "ipython3",
   "version": "3.9.18"
  }
 },
 "nbformat": 4,
 "nbformat_minor": 2
}
